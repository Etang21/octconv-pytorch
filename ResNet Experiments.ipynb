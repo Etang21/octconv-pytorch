{
 "cells": [
  {
   "cell_type": "markdown",
   "metadata": {},
   "source": [
    "# ResNet Experiments\n",
    "\n",
    "Here we train the ResNet network and a ResNet network with Octave Convolution layers on the Tiny ImageNet challenge. We will eventually use the ResNet-50 network. We will eventually compare in terms of both accuracy and compute power expended."
   ]
  },
  {
   "cell_type": "markdown",
   "metadata": {},
   "source": [
    "## Setup"
   ]
  },
  {
   "cell_type": "code",
   "execution_count": 1,
   "metadata": {},
   "outputs": [],
   "source": [
    "import os\n",
    "import time\n",
    "import random\n",
    "import copy\n",
    "\n",
    "import matplotlib.pyplot as plt\n",
    "import numpy as np\n",
    "\n",
    "import torch\n",
    "import torch.nn as nn\n",
    "import torch.nn.functional as F\n",
    "\n",
    "import torchvision\n",
    "from torchvision import transforms, datasets"
   ]
  },
  {
   "cell_type": "code",
   "execution_count": 2,
   "metadata": {},
   "outputs": [
    {
     "name": "stdout",
     "output_type": "stream",
     "text": [
      "using device: cuda\n"
     ]
    }
   ],
   "source": [
    "# Taken from 231n assignments\n",
    "USE_GPU = True\n",
    "\n",
    "dtype = torch.float32\n",
    "\n",
    "if USE_GPU and torch.cuda.is_available():\n",
    "    device = torch.device('cuda')\n",
    "else:\n",
    "    device = torch.device('cpu')\n",
    "\n",
    "print('using device:', device)"
   ]
  },
  {
   "cell_type": "markdown",
   "metadata": {},
   "source": [
    "## Tiny ImageNet Data\n",
    "\n",
    "We use the Tiny ImageNet database to benchmark some of our results. To download this dataset into your own workspace, run `$ wget http://cs231n.stanford.edu/tiny-imagenet-200.zip` from your command line. Then use the `$ unzip` command to unzip the dataset for use. The data directory should be `tiny-imagenet-200/`.\n",
    "\n",
    "After that, we have to organize the `tiny-imagenet-200/val` to match the format of the `tiny-imagenet-200/train` directory, or else things break in annoying ways. To do this, run the script `./organize_val_imgs.sh` from the project directory. After that, we suggest you verify that the `val` and `train` directories are structured identically.\n",
    "\n",
    "Further about Tiny ImageNet is located at https://tiny-imagenet.herokuapp.com/."
   ]
  },
  {
   "cell_type": "code",
   "execution_count": 3,
   "metadata": {},
   "outputs": [],
   "source": [
    "data_dir = 'tiny-imagenet-200/'"
   ]
  },
  {
   "cell_type": "code",
   "execution_count": 4,
   "metadata": {},
   "outputs": [
    {
     "name": "stdout",
     "output_type": "stream",
     "text": [
      "Number of training examples in dataset: 100000\n",
      "Number of validation examples in dataset: 10000\n"
     ]
    }
   ],
   "source": [
    "# Taken from https://pytorch.org/tutorials/beginner/transfer_learning_tutorial.html\n",
    "\n",
    "# Data augmentation and normalization for training\n",
    "# Just normalization for validation\n",
    "data_transforms = {\n",
    "    'train': transforms.Compose([\n",
    "        transforms.ColorJitter(brightness=0.2, contrast=0.2, saturation=0.2),\n",
    "        transforms.RandomHorizontalFlip(),\n",
    "        transforms.RandomResizedCrop(64),\n",
    "        transforms.ToTensor(),\n",
    "        transforms.Normalize([0.485, 0.456, 0.406], [0.229, 0.224, 0.225])\n",
    "    ]),\n",
    "    'val': transforms.Compose([\n",
    "        transforms.ToTensor(),\n",
    "        transforms.Normalize([0.485, 0.456, 0.406], [0.229, 0.224, 0.225])\n",
    "    ]),\n",
    "}\n",
    "\n",
    "image_datasets = {x: datasets.ImageFolder(os.path.join(data_dir, x),\n",
    "                                          data_transforms[x])\n",
    "                  for x in ['train', 'val']}\n",
    "dataloaders = {x: torch.utils.data.DataLoader(image_datasets[x], batch_size=4,\n",
    "                                             shuffle=True, num_workers=4)\n",
    "              for x in ['train', 'val']}\n",
    "dataset_sizes = {x: len(image_datasets[x]) for x in ['train', 'val']}\n",
    "class_names = image_datasets['train'].classes\n",
    "\n",
    "print(\"Number of training examples in dataset: {}\".format(len(image_datasets['train'])))\n",
    "print(\"Number of validation examples in dataset: {}\".format(len(image_datasets['val'])))"
   ]
  },
  {
   "cell_type": "code",
   "execution_count": 5,
   "metadata": {},
   "outputs": [
    {
     "name": "stdout",
     "output_type": "stream",
     "text": [
      "Number of examples in train_mini: 100\n",
      "Number of examples in train_val: 100\n"
     ]
    }
   ],
   "source": [
    "# Create mini datasets for quick debugging\n",
    "\n",
    "num_mini_samples = 100\n",
    "for x in ['train', 'val']:\n",
    "    mini_indices = random.sample(range(len(image_datasets[x])), k=num_mini_samples)\n",
    "    mini_sampler = torch.utils.data.SubsetRandomSampler(mini_indices)\n",
    "    dataloaders[x + '_mini'] = torch.utils.data.DataLoader(image_datasets[x], batch_size=4,\n",
    "                                                            shuffle=False, num_workers=4,\n",
    "                                                            sampler=mini_sampler)\n",
    "    dataset_sizes[x + '_mini'] = dataloaders[x + '_mini'].batch_size * len(dataloaders[x + '_mini'])\n",
    "\n",
    "print(\"Number of examples in train_mini: {}\".format(dataset_sizes['train_mini']))\n",
    "print(\"Number of examples in train_val: {}\".format(dataset_sizes['val_mini']))"
   ]
  },
  {
   "cell_type": "code",
   "execution_count": 6,
   "metadata": {},
   "outputs": [],
   "source": [
    "def imshow(inp, title=None):\n",
    "    \"\"\"\n",
    "    Imshow for Tensor.\n",
    "    \n",
    "    Code from: https://pytorch.org/tutorials/beginner/transfer_learning_tutorial.html\n",
    "    \"\"\"\n",
    "    inp = inp.numpy().transpose((1, 2, 0))\n",
    "    mean = np.array([0.485, 0.456, 0.406])\n",
    "    std = np.array([0.229, 0.224, 0.225])\n",
    "    inp = std * inp + mean\n",
    "    inp = np.clip(inp, 0, 1)\n",
    "    plt.imshow(inp)\n",
    "    if title is not None:\n",
    "        plt.title(title)\n",
    "    plt.pause(0.001)  # pause a bit so that plots are updated"
   ]
  },
  {
   "cell_type": "code",
   "execution_count": 7,
   "metadata": {},
   "outputs": [
    {
     "name": "stdout",
     "output_type": "stream",
     "text": [
      "Image shape: torch.Size([3, 64, 64])\n",
      "Image class: 18\n"
     ]
    },
    {
     "data": {
      "image/png": "[encoded data removed]",
      "text/plain": [
       "<Figure size 432x288 with 1 Axes>"
      ]
     },
     "metadata": {
      "needs_background": "light"
     },
     "output_type": "display_data"
    }
   ],
   "source": [
    "sample = image_datasets['train'][9402]\n",
    "print(\"Image shape: {}\".format(sample[0].shape))\n",
    "print(\"Image class: {}\".format(sample[1]))\n",
    "imshow(sample[0])"
   ]
  },
  {
   "cell_type": "code",
   "execution_count": 8,
   "metadata": {},
   "outputs": [
    {
     "name": "stdout",
     "output_type": "stream",
     "text": [
      "Validation minibatch labels: tensor([155,  10, 127,  47])\n"
     ]
    }
   ],
   "source": [
    "# Make sure validation dataset is loaded properly\n",
    "for inputs, labels in dataloaders[\"val\"]:\n",
    "    print(\"Validation minibatch labels: {}\".format(labels))\n",
    "    assert torch.sum(labels) != 0, \"All validation labels are 0. Did you run organize_val_imgs.sh?\"\n",
    "    break"
   ]
  },
  {
   "cell_type": "markdown",
   "metadata": {},
   "source": [
    "### Memory Profiling tools"
   ]
  },
  {
   "cell_type": "code",
   "execution_count": 9,
   "metadata": {},
   "outputs": [],
   "source": [
    "import gc\n",
    "import sys\n",
    "import operator as op\n",
    "from functools import reduce\n",
    "\n",
    "\"\"\"Code largely taken from  https://discuss.pytorch.org/t/how-to-debug-causes-of-gpu-memory-leaks/6741/8. Should print out the allocated memory for each of our tensors.\"\"\"\n",
    "\n",
    "def sizeof_fmt(num, suffix='B'):\n",
    "    \"\"\"\n",
    "    Helper function to get human-readable bytes\n",
    "    From https://stackoverflow.com/questions/1094841/reusable-library-to-get-human-readable-version-of-file-size\n",
    "    \"\"\"\n",
    "    for unit in ['','K','M','G','T','P','E','Z']:\n",
    "        if abs(num) < 1024.0:\n",
    "            return \"%3.5f%s%s\" % (num, unit, suffix)\n",
    "        num /= 1024.0\n",
    "    return \"%.1f%s%s\" % (num, 'Yi', suffix)\n",
    "\n",
    "def print_mem_tensors(verbose=False):\n",
    "    \"\"\"Prints stats about Pytorch's memory usage\"\"\"\n",
    "    total_tensors = 0\n",
    "    total_elems = 0\n",
    "    total_bytes = 0\n",
    "    for obj in gc.get_objects():\n",
    "        try:\n",
    "            if torch.is_tensor(obj) or (hasattr(obj, 'data') and torch.is_tensor(obj.data)):\n",
    "                total_tensors += 1\n",
    "                total_elems += obj.nelement()\n",
    "                total_bytes += obj.element_size() * obj.nelement() # Size of tensor elements\n",
    "                total_bytes += sys.getsizeof(obj) # Tensor overhead\n",
    "                if verbose:\n",
    "                    print(obj.nelement(), type(obj), obj.size())\n",
    "        except:\n",
    "            pass\n",
    "    human_bytes = sizeof_fmt(total_bytes)\n",
    "    print(\"In-memory tensors: {}, num_elements: {}, bytes: {}\".format(total_tensors, total_elems, human_bytes))\n",
    "    return total_tensors, total_elems, total_bytes"
   ]
  },
  {
   "cell_type": "markdown",
   "metadata": {},
   "source": [
    "## Training Vanilla ResNet"
   ]
  },
  {
   "cell_type": "code",
   "execution_count": 13,
   "metadata": {},
   "outputs": [],
   "source": [
    "# Taken from https://pytorch.org/tutorials/beginner/transfer_learning_tutorial.html\n",
    "\n",
    "def train_model(model, criterion, optimizer, save_path, log_file=None, scheduler=None, \n",
    "                num_epochs=25, train_name='train', val_name='val', verbose_mem=False):\n",
    "    \"\"\"\n",
    "    \n",
    "    Parameters:\n",
    "        model (Pytorch model): the model to train\n",
    "        criterion (function): the loss function to optimize\n",
    "        optimizer: a Pytorch optimizer object (e.g. Adam or SGD)\n",
    "        save_path (string): the file to write the best model weights to at every validation step\n",
    "        log_file (string): the file to write training stats (loss, accuracy history) to\n",
    "        scheduler: learning rate schduler\n",
    "        num_epochs (int): number of epochs to train\n",
    "        train_name (string): can be set to 'train_mini' to train on mini set.\n",
    "        val_name (string): can be set to 'val_mini' to validate on mini set\n",
    "        \n",
    "    Returns:\n",
    "        The model with highest validation accuracy from our training history\n",
    "    \"\"\"\n",
    "    since = time.time()\n",
    "\n",
    "    model.to(device=device, dtype=dtype)    \n",
    "    best_model_wts = copy.deepcopy(model.state_dict())\n",
    "    best_acc = 0.0\n",
    "    \n",
    "    # clear log_file:\n",
    "    if log_file:\n",
    "        open(log_file, 'w').close()\n",
    "        with open(log_file, 'a') as f:\n",
    "            f.write(\"Using optimizer: {}\\n\\n\".format(optimizer))\n",
    "    print(\"Using optimizer: {}\\n\\n\".format(optimizer))\n",
    "\n",
    "    for epoch in range(num_epochs):\n",
    "        print('Epoch {}/{}'.format(epoch, num_epochs - 1))\n",
    "        print('-' * 10)\n",
    "\n",
    "        # Each epoch has a training and validation phase\n",
    "        for phase in [train_name, val_name]:\n",
    "            if phase == train_name:\n",
    "                if scheduler:\n",
    "                    scheduler.step()\n",
    "                model.train()  # Set model to training mode\n",
    "            else:\n",
    "                model.eval()   # Set model to evaluate mode\n",
    "\n",
    "            running_loss = 0.0\n",
    "            running_corrects = 0\n",
    "\n",
    "            # Iterate over data.\n",
    "            for inputs, labels in dataloaders[phase]:\n",
    "#                 print(\"Iterating over batch of size {}\".format(len(inputs)))\n",
    "                inputs = inputs.to(device)\n",
    "                labels = labels.to(device)\n",
    "\n",
    "                # zero the parameter gradients\n",
    "                optimizer.zero_grad()\n",
    "\n",
    "                # forward\n",
    "                # track history if only in train\n",
    "                with torch.set_grad_enabled(phase == train_name):\n",
    "                    outputs = model(inputs)\n",
    "                    _, preds = torch.max(outputs, 1)\n",
    "                    loss = criterion(outputs, labels)\n",
    "\n",
    "                    # backward + optimize only if in training phase\n",
    "                    if phase == train_name:\n",
    "                        loss.backward()\n",
    "                        optimizer.step()\n",
    "\n",
    "                # statistics\n",
    "                running_loss += loss.item() * inputs.size(0)\n",
    "                running_corrects += torch.sum(preds == labels.data)\n",
    "                \n",
    "                # print memory stats\n",
    "                if verbose_mem:\n",
    "                    print_mem_tensors()\n",
    "                    print()\n",
    "\n",
    "            epoch_loss = running_loss / dataset_sizes[phase]\n",
    "            epoch_acc = running_corrects.double() / dataset_sizes[phase]\n",
    "\n",
    "            # print and log training stats\n",
    "            epoch_summary = 'Epoch: {}, {} Loss: {:.4f} Acc: {:.4f}'.format(\n",
    "                epoch, phase, epoch_loss, epoch_acc)\n",
    "            print(epoch_summary)\n",
    "            if log_file:\n",
    "                with open(log_file, \"a\") as f:\n",
    "                    f.write(epoch_summary + \"\\n\")\n",
    "\n",
    "            # deep copy the best model, save weights to file\n",
    "            if phase == val_name and epoch_acc > best_acc:\n",
    "                best_acc = epoch_acc\n",
    "                best_model_wts = copy.deepcopy(model.state_dict())\n",
    "                torch.save(model.state_dict(), save_path)\n",
    "                print(\"Saved best model to {}\".format(save_path))\n",
    "\n",
    "        print()\n",
    "\n",
    "    # Print and log timing stats\n",
    "    time_elapsed = time.time() - since\n",
    "    print('Training complete in {:.0f}m {:.0f}s'.format(\n",
    "        time_elapsed // 60, time_elapsed % 60))\n",
    "    print('Best val Acc: {:4f}'.format(best_acc))\n",
    "    if log_file:\n",
    "        with open(log_file, \"a\") as f:\n",
    "            f.write('Training complete in {:.0f}m {:.0f}s\\n'.format(\n",
    "                    time_elapsed // 60, time_elapsed % 60))\n",
    "            f.write('Best val Acc: {:4f}\\n'.format(best_acc))\n",
    "\n",
    "    # load best model weights\n",
    "    model.load_state_dict(best_model_wts)\n",
    "    return model"
   ]
  },
  {
   "cell_type": "code",
   "execution_count": 14,
   "metadata": {},
   "outputs": [],
   "source": [
    "resnet = torchvision.models.resnet50(num_classes=200, pretrained=False)\n",
    "loss_fn = nn.CrossEntropyLoss()\n",
    "num_epochs = 100 # Jim's suggestion\n",
    "momentum = 0.9 # Resnet paper\n",
    "learning_rate = 3e-4 # Justin Johnson's slides\n",
    "reg = 1e-2 # Resnet paper is 1e-4\n",
    "optimizer = torch.optim.Adam(resnet.parameters(), lr=learning_rate, weight_decay=reg) # Justin Johnson's slides\n",
    "scheduler = None"
   ]
  },
  {
   "cell_type": "code",
   "execution_count": 15,
   "metadata": {},
   "outputs": [
    {
     "name": "stdout",
     "output_type": "stream",
     "text": [
      "Using optimizer: Adam (\n",
      "Parameter Group 0\n",
      "    amsgrad: False\n",
      "    betas: (0.9, 0.999)\n",
      "    eps: 1e-08\n",
      "    lr: 0.0003\n",
      "    weight_decay: 0.01\n",
      ")\n",
      "\n",
      "\n",
      "Epoch 0/4\n",
      "----------\n",
      "Epoch: 0, train_mini Loss: 7.4881 Acc: 0.0100\n",
      "Epoch: 0, val_mini Loss: 6.4547 Acc: 0.0100\n",
      "Saved best model to saved_models/mini_resnet50.pth\n",
      "\n",
      "Epoch 1/4\n",
      "----------\n",
      "Epoch: 1, train_mini Loss: 5.2050 Acc: 0.0200\n",
      "Epoch: 1, val_mini Loss: 14.9095 Acc: 0.0000\n",
      "\n",
      "Epoch 2/4\n",
      "----------\n",
      "Epoch: 2, train_mini Loss: 5.1259 Acc: 0.0300\n",
      "Epoch: 2, val_mini Loss: 14.1109 Acc: 0.0300\n",
      "Saved best model to saved_models/mini_resnet50.pth\n",
      "\n",
      "Epoch 3/4\n",
      "----------\n",
      "Epoch: 3, train_mini Loss: 5.0683 Acc: 0.0300\n",
      "Epoch: 3, val_mini Loss: 21.2514 Acc: 0.0100\n",
      "\n",
      "Epoch 4/4\n",
      "----------\n",
      "Epoch: 4, train_mini Loss: 5.0146 Acc: 0.0300\n",
      "Epoch: 4, val_mini Loss: 10.1862 Acc: 0.0000\n",
      "\n",
      "Training complete in 0m 14s\n",
      "Best val Acc: 0.030000\n"
     ]
    }
   ],
   "source": [
    "# Train on a mini dataset to debug\n",
    "# The training accuracy should improve, and the val accuracy should be roughly random guessing\n",
    "mini_epochs = 1 if device == 'cpu' else 5\n",
    "mini_model = train_model(resnet, loss_fn, optimizer, 'saved_models/mini_resnet50.pth', 'logs/mini_resnet50.txt', scheduler=scheduler, num_epochs=mini_epochs, train_name='train_mini', val_name='val_mini')"
   ]
  },
  {
   "cell_type": "code",
   "execution_count": 16,
   "metadata": {},
   "outputs": [],
   "source": [
    "def evaluate_model(model, criterion, val_name='val'):\n",
    "    # Each epoch has a training and validation phase\n",
    "    model.eval()   # Set model to evaluate mode\n",
    "\n",
    "    running_loss = 0.0\n",
    "    running_corrects = 0\n",
    "\n",
    "    # Iterate over data.\n",
    "    for i, (inputs, labels) in enumerate(dataloaders[val_name]):\n",
    "        inputs = inputs.to(device)\n",
    "        labels = labels.to(device)\n",
    "\n",
    "        # forward\n",
    "        # track history if only in train\n",
    "        with torch.set_grad_enabled(False):\n",
    "            outputs = model(inputs)\n",
    "            _, preds = torch.max(outputs, 1)\n",
    "            loss = criterion(outputs, labels)\n",
    "\n",
    "        # statistics\n",
    "        running_loss += loss.item() * inputs.size(0)\n",
    "        running_corrects += torch.sum(preds == labels.data)\n",
    "\n",
    "    epoch_loss = running_loss / dataset_sizes[val_name]\n",
    "    epoch_acc = running_corrects.double() / dataset_sizes[val_name]\n",
    "\n",
    "    print('Loss on {}: {:.4f} Acc: {:.4f}'.format(\n",
    "        val_name, epoch_loss, epoch_acc))"
   ]
  },
  {
   "cell_type": "code",
   "execution_count": 17,
   "metadata": {},
   "outputs": [
    {
     "name": "stdout",
     "output_type": "stream",
     "text": [
      "Loss on val_mini: 14.1109 Acc: 0.0300\n"
     ]
    }
   ],
   "source": [
    "evaluate_model(resnet, loss_fn, val_name='val_mini')"
   ]
  },
  {
   "cell_type": "code",
   "execution_count": 18,
   "metadata": {},
   "outputs": [
    {
     "name": "stdout",
     "output_type": "stream",
     "text": [
      "In-memory tensors: 645, num_elements: 71868113, bytes: 274.19960MB\n"
     ]
    },
    {
     "name": "stderr",
     "output_type": "stream",
     "text": [
      "/opt/anaconda3/lib/python3.7/site-packages/torch/distributed/distributed_c10d.py:100: UserWarning: torch.distributed.reduce_op is deprecated, please use torch.distributed.ReduceOp instead\n",
      "  warnings.warn(\"torch.distributed.reduce_op is deprecated, please use \"\n"
     ]
    },
    {
     "data": {
      "text/plain": [
       "(645, 71868113, 287519120)"
      ]
     },
     "execution_count": 18,
     "metadata": {},
     "output_type": "execute_result"
    }
   ],
   "source": [
    "print_mem_tensors()"
   ]
  },
  {
   "cell_type": "markdown",
   "metadata": {},
   "source": [
    "## Training the Big Model"
   ]
  },
  {
   "cell_type": "code",
   "execution_count": 25,
   "metadata": {},
   "outputs": [
    {
     "name": "stdout",
     "output_type": "stream",
     "text": [
      "Using optimizer: Adam (\n",
      "Parameter Group 0\n",
      "    amsgrad: False\n",
      "    betas: (0.9, 0.999)\n",
      "    eps: 1e-08\n",
      "    lr: 0.0003\n",
      "    weight_decay: 0.01\n",
      ")\n",
      "\n",
      "\n",
      "Epoch 0/99\n",
      "----------\n",
      "In-memory tensors: 7116, num_elements: 695710929, bytes: 2.59221GB\n",
      "\n",
      "In-memory tensors: 7116, num_elements: 695710929, bytes: 2.59221GB\n",
      "\n",
      "In-memory tensors: 7114, num_elements: 695661773, bytes: 2.59202GB\n",
      "\n",
      "In-memory tensors: 7118, num_elements: 695760085, bytes: 2.59239GB\n",
      "\n",
      "In-memory tensors: 7116, num_elements: 695710929, bytes: 2.59221GB\n",
      "\n",
      "In-memory tensors: 7114, num_elements: 695661773, bytes: 2.59202GB\n",
      "\n",
      "In-memory tensors: 7112, num_elements: 695612617, bytes: 2.59184GB\n",
      "\n",
      "In-memory tensors: 7114, num_elements: 695661773, bytes: 2.59202GB\n",
      "\n",
      "In-memory tensors: 7112, num_elements: 695612617, bytes: 2.59184GB\n",
      "\n",
      "In-memory tensors: 7112, num_elements: 695612617, bytes: 2.59184GB\n",
      "\n"
     ]
    },
    {
     "ename": "KeyboardInterrupt",
     "evalue": "",
     "output_type": "error",
     "traceback": [
      "\u001b[0;31m---------------------------------------------------------------------------\u001b[0m",
      "\u001b[0;31mKeyboardInterrupt\u001b[0m                         Traceback (most recent call last)",
      "\u001b[0;32m<ipython-input-25-ad81ff596e76>\u001b[0m in \u001b[0;36m<module>\u001b[0;34m\u001b[0m\n\u001b[1;32m     18\u001b[0m                          \u001b[0mscheduler\u001b[0m\u001b[0;34m=\u001b[0m\u001b[0mscheduler\u001b[0m\u001b[0;34m,\u001b[0m\u001b[0;34m\u001b[0m\u001b[0;34m\u001b[0m\u001b[0m\n\u001b[1;32m     19\u001b[0m                          \u001b[0mnum_epochs\u001b[0m\u001b[0;34m=\u001b[0m\u001b[0mnum_epochs\u001b[0m\u001b[0;34m,\u001b[0m\u001b[0;34m\u001b[0m\u001b[0;34m\u001b[0m\u001b[0m\n\u001b[0;32m---> 20\u001b[0;31m                          \u001b[0mverbose_mem\u001b[0m\u001b[0;34m=\u001b[0m\u001b[0;32mTrue\u001b[0m\u001b[0;34m\u001b[0m\u001b[0;34m\u001b[0m\u001b[0m\n\u001b[0m\u001b[1;32m     21\u001b[0m                         )\n",
      "\u001b[0;32m<ipython-input-13-1b012d0b4801>\u001b[0m in \u001b[0;36mtrain_model\u001b[0;34m(model, criterion, optimizer, save_path, log_file, scheduler, num_epochs, train_name, val_name, verbose_mem)\u001b[0m\n\u001b[1;32m     67\u001b[0m                     \u001b[0;32mif\u001b[0m \u001b[0mphase\u001b[0m \u001b[0;34m==\u001b[0m \u001b[0mtrain_name\u001b[0m\u001b[0;34m:\u001b[0m\u001b[0;34m\u001b[0m\u001b[0;34m\u001b[0m\u001b[0m\n\u001b[1;32m     68\u001b[0m                         \u001b[0mloss\u001b[0m\u001b[0;34m.\u001b[0m\u001b[0mbackward\u001b[0m\u001b[0;34m(\u001b[0m\u001b[0;34m)\u001b[0m\u001b[0;34m\u001b[0m\u001b[0;34m\u001b[0m\u001b[0m\n\u001b[0;32m---> 69\u001b[0;31m                         \u001b[0moptimizer\u001b[0m\u001b[0;34m.\u001b[0m\u001b[0mstep\u001b[0m\u001b[0;34m(\u001b[0m\u001b[0;34m)\u001b[0m\u001b[0;34m\u001b[0m\u001b[0;34m\u001b[0m\u001b[0m\n\u001b[0m\u001b[1;32m     70\u001b[0m \u001b[0;34m\u001b[0m\u001b[0m\n\u001b[1;32m     71\u001b[0m                 \u001b[0;31m# statistics\u001b[0m\u001b[0;34m\u001b[0m\u001b[0;34m\u001b[0m\u001b[0;34m\u001b[0m\u001b[0m\n",
      "\u001b[0;32m/opt/anaconda3/lib/python3.7/site-packages/torch/optim/adam.py\u001b[0m in \u001b[0;36mstep\u001b[0;34m(self, closure)\u001b[0m\n\u001b[1;32m     91\u001b[0m \u001b[0;34m\u001b[0m\u001b[0m\n\u001b[1;32m     92\u001b[0m                 \u001b[0;31m# Decay the first and second moment running average coefficient\u001b[0m\u001b[0;34m\u001b[0m\u001b[0;34m\u001b[0m\u001b[0;34m\u001b[0m\u001b[0m\n\u001b[0;32m---> 93\u001b[0;31m                 \u001b[0mexp_avg\u001b[0m\u001b[0;34m.\u001b[0m\u001b[0mmul_\u001b[0m\u001b[0;34m(\u001b[0m\u001b[0mbeta1\u001b[0m\u001b[0;34m)\u001b[0m\u001b[0;34m.\u001b[0m\u001b[0madd_\u001b[0m\u001b[0;34m(\u001b[0m\u001b[0;36m1\u001b[0m \u001b[0;34m-\u001b[0m \u001b[0mbeta1\u001b[0m\u001b[0;34m,\u001b[0m \u001b[0mgrad\u001b[0m\u001b[0;34m)\u001b[0m\u001b[0;34m\u001b[0m\u001b[0;34m\u001b[0m\u001b[0m\n\u001b[0m\u001b[1;32m     94\u001b[0m                 \u001b[0mexp_avg_sq\u001b[0m\u001b[0;34m.\u001b[0m\u001b[0mmul_\u001b[0m\u001b[0;34m(\u001b[0m\u001b[0mbeta2\u001b[0m\u001b[0;34m)\u001b[0m\u001b[0;34m.\u001b[0m\u001b[0maddcmul_\u001b[0m\u001b[0;34m(\u001b[0m\u001b[0;36m1\u001b[0m \u001b[0;34m-\u001b[0m \u001b[0mbeta2\u001b[0m\u001b[0;34m,\u001b[0m \u001b[0mgrad\u001b[0m\u001b[0;34m,\u001b[0m \u001b[0mgrad\u001b[0m\u001b[0;34m)\u001b[0m\u001b[0;34m\u001b[0m\u001b[0;34m\u001b[0m\u001b[0m\n\u001b[1;32m     95\u001b[0m                 \u001b[0;32mif\u001b[0m \u001b[0mamsgrad\u001b[0m\u001b[0;34m:\u001b[0m\u001b[0;34m\u001b[0m\u001b[0;34m\u001b[0m\u001b[0m\n",
      "\u001b[0;31mKeyboardInterrupt\u001b[0m: "
     ]
    }
   ],
   "source": [
    "# Train the actual big model\n",
    "resnet = torchvision.models.resnet50(num_classes=200, pretrained=False)\n",
    "loss_fn = nn.CrossEntropyLoss()\n",
    "\n",
    "num_epochs = 100 # Jim's suggestion\n",
    "momentum = 0.9 # Resnet paper\n",
    "learning_rate = 3e-4 # Justin Johnson's slides\n",
    "reg = 1e-2 # Resnet paper is 1e-4\n",
    "optimizer = torch.optim.Adam(resnet.parameters(), lr=learning_rate, weight_decay=reg) # Justin Johnson's slides\n",
    "scheduler = None # OctConv paper uses cosine scheduler\n",
    "\n",
    "best_resnet_path = 'saved_models/reg_res50.pth'\n",
    "best_model = train_model(resnet, \n",
    "                         loss_fn, \n",
    "                         optimizer,\n",
    "                         best_resnet_path, \n",
    "                         log_file='logs/reg_res50.txt', \n",
    "                         scheduler=scheduler, \n",
    "                         num_epochs=num_epochs,\n",
    "                         verbose_mem=True\n",
    "                        )"
   ]
  },
  {
   "cell_type": "code",
   "execution_count": null,
   "metadata": {},
   "outputs": [],
   "source": []
  }
 ],
 "metadata": {
  "kernelspec": {
   "display_name": "Python 3",
   "language": "python",
   "name": "python3"
  },
  "language_info": {
   "codemirror_mode": {
    "name": "ipython",
    "version": 3
   },
   "file_extension": ".py",
   "mimetype": "text/x-python",
   "name": "python",
   "nbconvert_exporter": "python",
   "pygments_lexer": "ipython3",
   "version": "3.7.3"
  }
 },
 "nbformat": 4,
 "nbformat_minor": 2
}
