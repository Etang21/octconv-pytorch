{
 "cells": [
  {
   "cell_type": "markdown",
   "metadata": {},
   "source": [
    "# ResNet Experiments\n",
    "\n",
    "Here we train the ResNet network and a ResNet network with Octave Convolution layers on the Tiny ImageNet challenge. We will eventually use the ResNet-50 network. We will eventually compare in terms of both accuracy and compute power expended."
   ]
  },
  {
   "cell_type": "markdown",
   "metadata": {},
   "source": [
    "## Setup"
   ]
  },
  {
   "cell_type": "code",
   "execution_count": 1,
   "metadata": {},
   "outputs": [],
   "source": [
    "import os\n",
    "import time\n",
    "import random\n",
    "import copy\n",
    "\n",
    "import matplotlib.pyplot as plt\n",
    "import numpy as np\n",
    "\n",
    "import torch\n",
    "import torch.nn as nn\n",
    "import torch.nn.functional as F\n",
    "\n",
    "import torchvision\n",
    "from torchvision import transforms, datasets"
   ]
  },
  {
   "cell_type": "code",
   "execution_count": 2,
   "metadata": {},
   "outputs": [
    {
     "name": "stdout",
     "output_type": "stream",
     "text": [
      "using device: cuda\n"
     ]
    }
   ],
   "source": [
    "# Taken from 231n assignments\n",
    "USE_GPU = True\n",
    "\n",
    "dtype = torch.float32\n",
    "\n",
    "if USE_GPU and torch.cuda.is_available():\n",
    "    device = torch.device('cuda')\n",
    "else:\n",
    "    device = torch.device('cpu')\n",
    "\n",
    "print('using device:', device)"
   ]
  },
  {
   "cell_type": "markdown",
   "metadata": {},
   "source": [
    "## Tiny ImageNet Data\n",
    "\n",
    "We use the Tiny ImageNet database to benchmark some of our results. To download this dataset into your own workspace, run `$ wget http://cs231n.stanford.edu/tiny-imagenet-200.zip` from your command line. Then use the `$ unzip` command to unzip the dataset for use. The data directory should be `tiny-imagenet-200/`.\n",
    "\n",
    "After that, we have to organize the `tiny-imagenet-200/val` to match the format of the `tiny-imagenet-200/train` directory, or else things break in annoying ways. To do this, run the script `./organize_val_imgs.sh` from the project directory. After that, we suggest you verify that the `val` and `train` directories are structured identically.\n",
    "\n",
    "Further about Tiny ImageNet is located at https://tiny-imagenet.herokuapp.com/."
   ]
  },
  {
   "cell_type": "code",
   "execution_count": 3,
   "metadata": {},
   "outputs": [],
   "source": [
    "data_dir = 'tiny-imagenet-200/'"
   ]
  },
  {
   "cell_type": "code",
   "execution_count": 4,
   "metadata": {},
   "outputs": [
    {
     "name": "stdout",
     "output_type": "stream",
     "text": [
      "Number of training examples in dataset: 100000\n",
      "Number of validation examples in dataset: 10000\n"
     ]
    }
   ],
   "source": [
    "# Taken from https://pytorch.org/tutorials/beginner/transfer_learning_tutorial.html\n",
    "\n",
    "# Data augmentation and normalization for training\n",
    "# Just normalization for validation\n",
    "data_transforms = {\n",
    "    'train': transforms.Compose([\n",
    "        transforms.ColorJitter(brightness=0.2, contrast=0.2, saturation=0.2),\n",
    "        transforms.RandomAffine(10, shear=20),\n",
    "        transforms.RandomHorizontalFlip(),\n",
    "        transforms.ToTensor(),\n",
    "        transforms.Normalize([0.485, 0.456, 0.406], [0.229, 0.224, 0.225])\n",
    "    ]),\n",
    "    'val': transforms.Compose([\n",
    "        transforms.ToTensor(),\n",
    "        transforms.Normalize([0.485, 0.456, 0.406], [0.229, 0.224, 0.225])\n",
    "    ]),\n",
    "}\n",
    "\n",
    "image_datasets = {x: datasets.ImageFolder(os.path.join(data_dir, x),\n",
    "                                          data_transforms[x])\n",
    "                  for x in ['train', 'val']}\n",
    "dataloaders = {x: torch.utils.data.DataLoader(image_datasets[x], batch_size=4,\n",
    "                                             shuffle=True, num_workers=4)\n",
    "              for x in ['train', 'val']}\n",
    "dataset_sizes = {x: len(image_datasets[x]) for x in ['train', 'val']}\n",
    "class_names = image_datasets['train'].classes\n",
    "\n",
    "print(\"Number of training examples in dataset: {}\".format(len(image_datasets['train'])))\n",
    "print(\"Number of validation examples in dataset: {}\".format(len(image_datasets['val'])))"
   ]
  },
  {
   "cell_type": "code",
   "execution_count": 5,
   "metadata": {},
   "outputs": [
    {
     "name": "stdout",
     "output_type": "stream",
     "text": [
      "Number of examples in train_mini: 100\n",
      "Number of examples in train_val: 100\n"
     ]
    }
   ],
   "source": [
    "# Create mini datasets for quick debugging\n",
    "\n",
    "num_mini_samples = 100\n",
    "for x in ['train', 'val']:\n",
    "    mini_indices = random.sample(range(len(image_datasets[x])), k=num_mini_samples)\n",
    "    mini_sampler = torch.utils.data.SubsetRandomSampler(mini_indices)\n",
    "    dataloaders[x + '_mini'] = torch.utils.data.DataLoader(image_datasets[x], batch_size=4,\n",
    "                                                            shuffle=False, num_workers=4,\n",
    "                                                            sampler=mini_sampler)\n",
    "    dataset_sizes[x + '_mini'] = dataloaders[x + '_mini'].batch_size * len(dataloaders[x + '_mini'])\n",
    "\n",
    "print(\"Number of examples in train_mini: {}\".format(dataset_sizes['train_mini']))\n",
    "print(\"Number of examples in train_val: {}\".format(dataset_sizes['val_mini']))"
   ]
  },
  {
   "cell_type": "code",
   "execution_count": 6,
   "metadata": {},
   "outputs": [],
   "source": [
    "def imshow(inp, title=None):\n",
    "    \"\"\"\n",
    "    Imshow for Tensor.\n",
    "    \n",
    "    Code from: https://pytorch.org/tutorials/beginner/transfer_learning_tutorial.html\n",
    "    \"\"\"\n",
    "    inp = inp.numpy().transpose((1, 2, 0))\n",
    "    mean = np.array([0.485, 0.456, 0.406])\n",
    "    std = np.array([0.229, 0.224, 0.225])\n",
    "    inp = std * inp + mean\n",
    "    inp = np.clip(inp, 0, 1)\n",
    "    plt.imshow(inp)\n",
    "    if title is not None:\n",
    "        plt.title(title)\n",
    "    plt.pause(0.001)  # pause a bit so that plots are updated"
   ]
  },
  {
   "cell_type": "code",
   "execution_count": 7,
   "metadata": {},
   "outputs": [
    {
     "name": "stdout",
     "output_type": "stream",
     "text": [
      "Image shape: torch.Size([3, 64, 64])\n",
      "Image class: 16\n"
     ]
    },
    {
     "data": {
      "image/png": "[encoded data removed]",
      "text/plain": [
       "<Figure size 432x288 with 1 Axes>"
      ]
     },
     "metadata": {
      "needs_background": "light"
     },
     "output_type": "display_data"
    }
   ],
   "source": [
    "sample = image_datasets['train'][8400]\n",
    "print(\"Image shape: {}\".format(sample[0].shape))\n",
    "print(\"Image class: {}\".format(sample[1]))\n",
    "imshow(sample[0])"
   ]
  },
  {
   "cell_type": "code",
   "execution_count": 8,
   "metadata": {},
   "outputs": [
    {
     "name": "stdout",
     "output_type": "stream",
     "text": [
      "Validation minibatch labels: tensor([105,  80,   0, 177])\n"
     ]
    }
   ],
   "source": [
    "# Make sure validation dataset is loaded properly\n",
    "for inputs, labels in dataloaders[\"val\"]:\n",
    "    print(\"Validation minibatch labels: {}\".format(labels))\n",
    "    assert torch.sum(labels) != 0, \"All validation labels are 0. Did you run organize_val_imgs.sh?\"\n",
    "    break"
   ]
  },
  {
   "cell_type": "markdown",
   "metadata": {},
   "source": [
    "## Vanilla ResNet Model\n",
    "\n",
    "Here we load the ResNet-50 model from torchvision.models"
   ]
  },
  {
   "cell_type": "code",
   "execution_count": 23,
   "metadata": {},
   "outputs": [],
   "source": [
    "resnet = torchvision.models.resnet50(num_classes=200, pretrained=False)"
   ]
  },
  {
   "cell_type": "markdown",
   "metadata": {},
   "source": [
    "## Training ResNet"
   ]
  },
  {
   "cell_type": "code",
   "execution_count": 24,
   "metadata": {},
   "outputs": [],
   "source": [
    "# Taken from https://pytorch.org/tutorials/beginner/transfer_learning_tutorial.html\n",
    "\n",
    "def train_model(model, criterion, optimizer, save_path, log_file=None, scheduler=None, num_epochs=25, train_name='train', val_name='val'):\n",
    "    \"\"\"\n",
    "    \n",
    "    Parameters:\n",
    "        model (Pytorch model): the model to train\n",
    "        criterion (function): the loss function to optimize\n",
    "        optimizer: a Pytorch optimizer object (e.g. Adam or SGD)\n",
    "        save_path (string): the file to write the best model weights to at every validation step\n",
    "        log_file (string): the file to write training stats (loss, accuracy history) to\n",
    "        scheduler: learning rate schduler\n",
    "        num_epochs (int): number of epochs to train\n",
    "        train_name (string): can be set to 'train_mini' to train on mini set.\n",
    "        val_name (string): can be set to 'val_mini' to validate on mini set\n",
    "        \n",
    "    Returns:\n",
    "        The model with highest validation accuracy from our training history\n",
    "    \"\"\"\n",
    "    since = time.time()\n",
    "\n",
    "    model.to(device=device, dtype=dtype)    \n",
    "    best_model_wts = copy.deepcopy(model.state_dict())\n",
    "    best_acc = 0.0\n",
    "    \n",
    "    # clear log_file:\n",
    "    if log_file:\n",
    "        open(log_file, 'w').close()\n",
    "        with open(log_file, 'a') as f:\n",
    "            f.write(\"Using optimizer: {}\\n\\n\".format(optimizer))\n",
    "    print(\"Using optimizer: {}\\n\\n\".format(optimizer))\n",
    "\n",
    "    for epoch in range(num_epochs):\n",
    "        print('Epoch {}/{}'.format(epoch, num_epochs - 1))\n",
    "        print('-' * 10)\n",
    "\n",
    "        # Each epoch has a training and validation phase\n",
    "        for phase in [train_name, val_name]:\n",
    "            if phase == train_name:\n",
    "                if scheduler:\n",
    "                    scheduler.step()\n",
    "                model.train()  # Set model to training mode\n",
    "            else:\n",
    "                model.eval()   # Set model to evaluate mode\n",
    "\n",
    "            running_loss = 0.0\n",
    "            running_corrects = 0\n",
    "\n",
    "            # Iterate over data.\n",
    "            for inputs, labels in dataloaders[phase]:\n",
    "#                 print(\"Iterating over batch of size {}\".format(len(inputs)))\n",
    "                inputs = inputs.to(device)\n",
    "                labels = labels.to(device)\n",
    "\n",
    "                # zero the parameter gradients\n",
    "                optimizer.zero_grad()\n",
    "\n",
    "                # forward\n",
    "                # track history if only in train\n",
    "                with torch.set_grad_enabled(phase == train_name):\n",
    "                    outputs = model(inputs)\n",
    "                    _, preds = torch.max(outputs, 1)\n",
    "                    loss = criterion(outputs, labels)\n",
    "\n",
    "                    # backward + optimize only if in training phase\n",
    "                    if phase == train_name:\n",
    "                        loss.backward()\n",
    "                        optimizer.step()\n",
    "\n",
    "                # statistics\n",
    "                running_loss += loss.item() * inputs.size(0)\n",
    "                running_corrects += torch.sum(preds == labels.data)\n",
    "\n",
    "            epoch_loss = running_loss / dataset_sizes[phase]\n",
    "            epoch_acc = running_corrects.double() / dataset_sizes[phase]\n",
    "\n",
    "            # print and log training stats\n",
    "            epoch_summary = 'Epoch: {}, {} Loss: {:.4f} Acc: {:.4f}'.format(\n",
    "                epoch, phase, epoch_loss, epoch_acc)\n",
    "            print(epoch_summary)\n",
    "            if log_file:\n",
    "                with open(log_file, \"a\") as f:\n",
    "                    f.write(epoch_summary + \"\\n\")\n",
    "\n",
    "            # deep copy the best model, save weights to file\n",
    "            if phase == val_name and epoch_acc > best_acc:\n",
    "                best_acc = epoch_acc\n",
    "                best_model_wts = copy.deepcopy(model.state_dict())\n",
    "                torch.save(model.state_dict(), save_path)\n",
    "                print(\"Saved best model to {}\".format(save_path))\n",
    "\n",
    "        print()\n",
    "\n",
    "    # Print and log timing stats\n",
    "    time_elapsed = time.time() - since\n",
    "    print('Training complete in {:.0f}m {:.0f}s'.format(\n",
    "        time_elapsed // 60, time_elapsed % 60))\n",
    "    print('Best val Acc: {:4f}'.format(best_acc))\n",
    "    if log_file:\n",
    "        with open(log_file, \"a\") as f:\n",
    "            f.write('Training complete in {:.0f}m {:.0f}s\\n'.format(\n",
    "                    time_elapsed // 60, time_elapsed % 60))\n",
    "            f.write('Best val Acc: {:4f}\\n'.format(best_acc))\n",
    "\n",
    "    # load best model weights\n",
    "    model.load_state_dict(best_model_wts)\n",
    "    return model"
   ]
  },
  {
   "cell_type": "code",
   "execution_count": 25,
   "metadata": {},
   "outputs": [],
   "source": [
    "loss_fn = nn.CrossEntropyLoss()\n",
    "num_epochs = 100\n",
    "momentum = 0 # Try this to make weight_decay work\n",
    "learning_rate = 1e-3\n",
    "reg = 3e-2 # Resnet paper is 1e-4\n",
    "optimizer = torch.optim.SGD(resnet.parameters(), momentum=momentum, lr=learning_rate, weight_decay=reg)\n",
    "scheduler = torch.optim.lr_scheduler.CosineAnnealingLR(optimizer, num_epochs) # OctConv paper"
   ]
  },
  {
   "cell_type": "code",
   "execution_count": 26,
   "metadata": {},
   "outputs": [
    {
     "name": "stdout",
     "output_type": "stream",
     "text": [
      "Using optimizer: SGD (\n",
      "Parameter Group 0\n",
      "    dampening: 0\n",
      "    initial_lr: 0.001\n",
      "    lr: 0.001\n",
      "    momentum: 0\n",
      "    nesterov: False\n",
      "    weight_decay: 0.03\n",
      ")\n",
      "\n",
      "\n",
      "Epoch 0/4\n",
      "----------\n",
      "Epoch: 0, train_mini Loss: 5.5062 Acc: 0.0100\n",
      "Epoch: 0, val_mini Loss: 5.5580 Acc: 0.0100\n",
      "Saved best model to saved_models/mini_resnet50.pth\n",
      "\n",
      "Epoch 1/4\n",
      "----------\n",
      "Epoch: 1, train_mini Loss: 5.0937 Acc: 0.0000\n",
      "Epoch: 1, val_mini Loss: 7.5385 Acc: 0.0000\n",
      "\n",
      "Epoch 2/4\n",
      "----------\n",
      "Epoch: 2, train_mini Loss: 4.8486 Acc: 0.0100\n",
      "Epoch: 2, val_mini Loss: 6.2869 Acc: 0.0000\n",
      "\n",
      "Epoch 3/4\n",
      "----------\n",
      "Epoch: 3, train_mini Loss: 4.7315 Acc: 0.0400\n",
      "Epoch: 3, val_mini Loss: 7.1184 Acc: 0.0000\n",
      "\n",
      "Epoch 4/4\n",
      "----------\n",
      "Epoch: 4, train_mini Loss: 4.6451 Acc: 0.0000\n",
      "Epoch: 4, val_mini Loss: 9.3243 Acc: 0.0100\n",
      "\n",
      "Training complete in 0m 13s\n",
      "Best val Acc: 0.010000\n"
     ]
    }
   ],
   "source": [
    "# Train on a mini dataset to debug\n",
    "# The training accuracy should improve, and the val accuracy should be roughly random guessing\n",
    "mini_epochs = 1 if device == 'cpu' else 5\n",
    "mini_model = train_model(resnet, loss_fn, optimizer, 'saved_models/mini_resnet50.pth', 'logs/mini_resnet50.txt', scheduler=scheduler, num_epochs=mini_epochs, train_name='train_mini', val_name='val_mini')"
   ]
  },
  {
   "cell_type": "code",
   "execution_count": 27,
   "metadata": {},
   "outputs": [],
   "source": [
    "def evaluate_model(model, criterion, val_name='val'):\n",
    "    # Each epoch has a training and validation phase\n",
    "    model.eval()   # Set model to evaluate mode\n",
    "\n",
    "    running_loss = 0.0\n",
    "    running_corrects = 0\n",
    "\n",
    "    # Iterate over data.\n",
    "    for i, (inputs, labels) in enumerate(dataloaders[val_name]):\n",
    "        inputs = inputs.to(device)\n",
    "        labels = labels.to(device)\n",
    "\n",
    "        # forward\n",
    "        # track history if only in train\n",
    "        with torch.set_grad_enabled(False):\n",
    "            outputs = model(inputs)\n",
    "            _, preds = torch.max(outputs, 1)\n",
    "            loss = criterion(outputs, labels)\n",
    "\n",
    "        # statistics\n",
    "        running_loss += loss.item() * inputs.size(0)\n",
    "        running_corrects += torch.sum(preds == labels.data)\n",
    "\n",
    "    epoch_loss = running_loss / dataset_sizes[val_name]\n",
    "    epoch_acc = running_corrects.double() / dataset_sizes[val_name]\n",
    "\n",
    "    print('Loss on {}: {:.4f} Acc: {:.4f}'.format(\n",
    "        val_name, epoch_loss, epoch_acc))"
   ]
  },
  {
   "cell_type": "code",
   "execution_count": 28,
   "metadata": {},
   "outputs": [
    {
     "name": "stdout",
     "output_type": "stream",
     "text": [
      "Loss on val_mini: 5.5580 Acc: 0.0100\n"
     ]
    }
   ],
   "source": [
    "evaluate_model(resnet, loss_fn, val_name='val_mini')"
   ]
  },
  {
   "cell_type": "markdown",
   "metadata": {},
   "source": [
    "## Training the Big Model"
   ]
  },
  {
   "cell_type": "code",
   "execution_count": null,
   "metadata": {},
   "outputs": [
    {
     "name": "stdout",
     "output_type": "stream",
     "text": [
      "Using optimizer: SGD (\n",
      "Parameter Group 0\n",
      "    dampening: 0\n",
      "    initial_lr: 0.001\n",
      "    lr: 0.001\n",
      "    momentum: 0\n",
      "    nesterov: False\n",
      "    weight_decay: 0.03\n",
      ")\n",
      "\n",
      "\n",
      "Epoch 0/99\n",
      "----------\n",
      "Epoch: 0, train Loss: 5.2952 Acc: 0.0093\n",
      "Epoch: 0, val Loss: 5.5960 Acc: 0.0133\n",
      "Saved best model to saved_models/reg_res50.pth\n",
      "\n",
      "Epoch 1/99\n",
      "----------\n",
      "Epoch: 1, train Loss: 5.0213 Acc: 0.0236\n",
      "Epoch: 1, val Loss: 5.0618 Acc: 0.0384\n",
      "Saved best model to saved_models/reg_res50.pth\n",
      "\n",
      "Epoch 2/99\n",
      "----------\n",
      "Epoch: 2, train Loss: 4.8595 Acc: 0.0376\n",
      "Epoch: 2, val Loss: 4.8687 Acc: 0.0516\n",
      "Saved best model to saved_models/reg_res50.pth\n",
      "\n",
      "Epoch 3/99\n",
      "----------\n",
      "Epoch: 3, train Loss: 4.8643 Acc: 0.0426\n",
      "Epoch: 3, val Loss: 4.6203 Acc: 0.0556\n",
      "Saved best model to saved_models/reg_res50.pth\n",
      "\n",
      "Epoch 4/99\n",
      "----------\n",
      "Epoch: 4, train Loss: 4.9482 Acc: 0.0397\n",
      "Epoch: 4, val Loss: 4.7759 Acc: 0.0485\n",
      "\n",
      "Epoch 5/99\n",
      "----------\n",
      "Epoch: 5, train Loss: 5.0221 Acc: 0.0332\n",
      "Epoch: 5, val Loss: 4.8948 Acc: 0.0375\n",
      "\n",
      "Epoch 6/99\n",
      "----------\n",
      "Epoch: 6, train Loss: 5.0721 Acc: 0.0279\n",
      "Epoch: 6, val Loss: 4.9485 Acc: 0.0297\n",
      "\n",
      "Epoch 7/99\n",
      "----------\n",
      "Epoch: 7, train Loss: 5.1070 Acc: 0.0230\n",
      "Epoch: 7, val Loss: 5.0122 Acc: 0.0320\n",
      "\n",
      "Epoch 8/99\n",
      "----------\n",
      "Epoch: 8, train Loss: 5.1293 Acc: 0.0210\n",
      "Epoch: 8, val Loss: 5.0451 Acc: 0.0236\n",
      "\n",
      "Epoch 9/99\n",
      "----------\n",
      "Epoch: 9, train Loss: 5.1459 Acc: 0.0197\n",
      "Epoch: 9, val Loss: 5.0547 Acc: 0.0252\n",
      "\n",
      "Epoch 10/99\n",
      "----------\n",
      "Epoch: 10, train Loss: 5.1585 Acc: 0.0183\n",
      "Epoch: 10, val Loss: 5.0562 Acc: 0.0230\n",
      "\n",
      "Epoch 11/99\n",
      "----------\n",
      "Epoch: 11, train Loss: 5.1670 Acc: 0.0178\n",
      "Epoch: 11, val Loss: 5.1052 Acc: 0.0234\n",
      "\n",
      "Epoch 12/99\n",
      "----------\n",
      "Epoch: 12, train Loss: 5.1753 Acc: 0.0163\n",
      "Epoch: 12, val Loss: 5.1051 Acc: 0.0195\n",
      "\n",
      "Epoch 13/99\n",
      "----------\n",
      "Epoch: 13, train Loss: 5.1809 Acc: 0.0164\n",
      "Epoch: 13, val Loss: 5.1226 Acc: 0.0208\n",
      "\n",
      "Epoch 14/99\n",
      "----------\n",
      "Epoch: 14, train Loss: 5.1879 Acc: 0.0159\n",
      "Epoch: 14, val Loss: 5.1283 Acc: 0.0207\n",
      "\n",
      "Epoch 15/99\n",
      "----------\n",
      "Epoch: 15, train Loss: 5.1929 Acc: 0.0159\n",
      "Epoch: 15, val Loss: 5.1300 Acc: 0.0188\n",
      "\n",
      "Epoch 16/99\n",
      "----------\n",
      "Epoch: 16, train Loss: 5.1958 Acc: 0.0153\n",
      "Epoch: 16, val Loss: 5.1288 Acc: 0.0204\n",
      "\n",
      "Epoch 17/99\n",
      "----------\n",
      "Epoch: 17, train Loss: 5.1992 Acc: 0.0149\n",
      "Epoch: 17, val Loss: 5.1420 Acc: 0.0164\n",
      "\n",
      "Epoch 18/99\n",
      "----------\n",
      "Epoch: 18, train Loss: 5.2032 Acc: 0.0135\n",
      "Epoch: 18, val Loss: 5.1311 Acc: 0.0152\n",
      "\n",
      "Epoch 19/99\n",
      "----------\n",
      "Epoch: 19, train Loss: 5.2050 Acc: 0.0129\n",
      "Epoch: 19, val Loss: 5.1277 Acc: 0.0145\n",
      "\n",
      "Epoch 20/99\n",
      "----------\n",
      "Epoch: 20, train Loss: 5.2061 Acc: 0.0129\n",
      "Epoch: 20, val Loss: 5.1560 Acc: 0.0158\n",
      "\n",
      "Epoch 21/99\n",
      "----------\n",
      "Epoch: 21, train Loss: 5.2063 Acc: 0.0125\n",
      "Epoch: 21, val Loss: 5.1586 Acc: 0.0138\n",
      "\n",
      "Epoch 22/99\n",
      "----------\n",
      "Epoch: 22, train Loss: 5.2066 Acc: 0.0130\n",
      "Epoch: 22, val Loss: 5.1570 Acc: 0.0148\n",
      "\n",
      "Epoch 23/99\n",
      "----------\n",
      "Epoch: 23, val Loss: 5.1647 Acc: 0.0159\n",
      "\n",
      "Epoch 24/99\n",
      "----------\n",
      "Epoch: 24, train Loss: 5.2059 Acc: 0.0124\n",
      "Epoch: 24, val Loss: 5.1440 Acc: 0.0158\n",
      "\n",
      "Epoch 25/99\n",
      "----------\n",
      "Epoch: 25, train Loss: 5.2051 Acc: 0.0125\n",
      "Epoch: 25, val Loss: 5.1533 Acc: 0.0149\n",
      "\n",
      "Epoch 26/99\n",
      "----------\n",
      "Epoch: 26, train Loss: 5.2040 Acc: 0.0129\n",
      "Epoch: 26, val Loss: 5.1441 Acc: 0.0150\n",
      "\n",
      "Epoch 27/99\n",
      "----------\n",
      "Epoch: 27, train Loss: 5.2023 Acc: 0.0119\n",
      "Epoch: 27, val Loss: 5.1374 Acc: 0.0152\n",
      "\n",
      "Epoch 28/99\n",
      "----------\n",
      "Epoch: 28, train Loss: 5.2002 Acc: 0.0125\n"
     ]
    }
   ],
   "source": [
    "# Train the actual big model\n",
    "resnet = torchvision.models.resnet50(num_classes=200, pretrained=False)\n",
    "loss_fn = nn.CrossEntropyLoss()\n",
    "\n",
    "num_epochs = 100\n",
    "momentum = 0 # Try this to make weight_decay work\n",
    "learning_rate = 1e-3\n",
    "reg = 3e-2 # Resnet paper is 1e-4\n",
    "optimizer = torch.optim.SGD(resnet.parameters(), momentum=momentum, lr=learning_rate, weight_decay=reg)\n",
    "scheduler = torch.optim.lr_scheduler.CosineAnnealingLR(optimizer, num_epochs) # OctConv paper\n",
    "\n",
    "best_resnet_path = 'saved_models/reg_res50.pth'\n",
    "best_model = train_model(resnet, loss_fn, optimizer, best_resnet_path, log_file='logs/reg_res50.txt', scheduler=scheduler, num_epochs=num_epochs)"
   ]
  },
  {
   "cell_type": "code",
   "execution_count": null,
   "metadata": {},
   "outputs": [],
   "source": []
  }
 ],
 "metadata": {
  "kernelspec": {
   "display_name": "Python 3",
   "language": "python",
   "name": "python3"
  },
  "language_info": {
   "codemirror_mode": {
    "name": "ipython",
    "version": 3
   },
   "file_extension": ".py",
   "mimetype": "text/x-python",
   "name": "python",
   "nbconvert_exporter": "python",
   "pygments_lexer": "ipython3",
   "version": "3.7.3"
  }
 },
 "nbformat": 4,
 "nbformat_minor": 2
}
