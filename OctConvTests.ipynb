{
 "cells": [
  {
   "cell_type": "markdown",
   "metadata": {},
   "source": [
    "# Octave Convolution Tests\n",
    "\n",
    "We can use this notebook to test our implementation of the OctConv module."
   ]
  },
  {
   "cell_type": "markdown",
   "metadata": {},
   "source": [
    "## Setup"
   ]
  },
  {
   "cell_type": "code",
   "execution_count": 4,
   "metadata": {},
   "outputs": [],
   "source": [
    "import torch\n",
    "import torch.nn as nn"
   ]
  },
  {
   "cell_type": "code",
   "execution_count": 6,
   "metadata": {},
   "outputs": [
    {
     "name": "stdout",
     "output_type": "stream",
     "text": [
      "The autoreload extension is already loaded. To reload it, use:\n",
      "  %reload_ext autoreload\n"
     ]
    }
   ],
   "source": [
    "%load_ext autoreload\n",
    "%autoreload 2\n",
    "\n",
    "from modules import OctConv2d"
   ]
  },
  {
   "cell_type": "markdown",
   "metadata": {},
   "source": [
    "## Testing OctConv Behavior\n",
    "\n",
    "Maybe we can move this to a `test.py` file eventually"
   ]
  },
  {
   "cell_type": "code",
   "execution_count": 57,
   "metadata": {},
   "outputs": [],
   "source": [
    "# Test output shapes for 1x1 convolution\n",
    "\n",
    "oc = OctConv2d(16, 16, (1, 1), 0.5, 0.5)\n",
    "input_h = torch.randn(128, 8, 32, 32)\n",
    "input_l = torch.randn(128, 8, 16, 16)\n",
    "\n",
    "output_h, output_l = oc(input_h, input_l)\n",
    "assert output_h.shape == (128, 8, 32, 32), \"Incorrect high-frequency output shape for OctConv2d\"\n",
    "assert output_l.shape == (128, 8, 16, 16), \"Incorrect low-frequency output shape for OctConv2d\""
   ]
  },
  {
   "cell_type": "code",
   "execution_count": 58,
   "metadata": {},
   "outputs": [],
   "source": [
    "# Test output shapes with alpha_in != alpha_out\n",
    "\n",
    "oc = OctConv2d(16, 16, (1, 1), 0.5, 0.25)\n",
    "input_h = torch.randn(128, 8, 32, 32)\n",
    "input_l = torch.randn(128, 8, 16, 16)\n",
    "\n",
    "output_h, output_l = oc(input_h, input_l)\n",
    "assert output_h.shape == (128, 12, 32, 32), \"Incorrect high-frequency output shape for OctConv2d\"\n",
    "assert output_l.shape == (128, 4, 16, 16), \"Incorrect low-frequency output shape for OctConv2d\""
   ]
  },
  {
   "cell_type": "code",
   "execution_count": 59,
   "metadata": {},
   "outputs": [],
   "source": [
    "# Test output shapes with alpha_in != alpha_out and in_channels != out_channels\n",
    "\n",
    "oc = OctConv2d(16, 32, (1, 1), 0.5, 0.25)\n",
    "input_h = torch.randn(128, 8, 32, 32)\n",
    "input_l = torch.randn(128, 8, 16, 16)\n",
    "\n",
    "output_h, output_l = oc(input_h, input_l)\n",
    "assert output_h.shape == (128, 24, 32, 32), \"Incorrect high-frequency output shape for OctConv2d\"\n",
    "assert output_l.shape == (128, 8, 16, 16), \"Incorrect low-frequency output shape for OctConv2d\""
   ]
  },
  {
   "cell_type": "code",
   "execution_count": 60,
   "metadata": {},
   "outputs": [],
   "source": [
    "# Test output shapes with alpha_in = alpha_out = 0\n",
    "\n",
    "oc = OctConv2d(16, 32, (1, 1), 0, 0)\n",
    "input_h = torch.randn(128, 16, 32, 32)\n",
    "input_l = torch.randn(128, 0, 16, 16)\n",
    "\n",
    "output_h, output_l = oc(input_h, input_l)\n",
    "assert output_h.shape == (128, 32, 32, 32), \"Incorrect high-frequency output shape for OctConv2d\"\n",
    "assert output_l is None, \"Incorrect low-frequency output shape for OctConv2d\""
   ]
  },
  {
   "cell_type": "code",
   "execution_count": 61,
   "metadata": {},
   "outputs": [],
   "source": [
    "# Test output shapes with padding and stride\n",
    "\n",
    "oc = OctConv2d(16, 32, (3, 3), 0.5, 0.5, stride=1, padding=1)\n",
    "input_h = torch.randn(128, 8, 32, 32)\n",
    "input_l = torch.randn(128, 8, 16, 16)\n",
    "\n",
    "output_h, output_l = oc(input_h, input_l)\n",
    "assert output_h.shape == (128, 16, 32, 32), \"Shape mismatch for stride=1, padding=1\"\n",
    "assert output_l.shape == (128, 16, 16, 16), \"Shape mismatch for stride=1, padding=1\""
   ]
  },
  {
   "cell_type": "code",
   "execution_count": 62,
   "metadata": {},
   "outputs": [],
   "source": [
    "# Test output shapes with stride to downsample\n",
    "\n",
    "oc = OctConv2d(16, 32, (2, 2), 0.5, 0.5, stride=2, padding=0)\n",
    "input_h = torch.randn(128, 8, 32, 32)\n",
    "input_l = torch.randn(128, 8, 16, 16)\n",
    "\n",
    "output_h, output_l = oc(input_h, input_l)\n",
    "assert output_h.shape == (128, 16, 16, 16), \"Shape mismatch for stride=2, padding=0\"\n",
    "assert output_l.shape == (128, 16, 8, 8), \"Shape mismatch for stride=2, padding=0\""
   ]
  },
  {
   "cell_type": "code",
   "execution_count": 63,
   "metadata": {},
   "outputs": [],
   "source": [
    "# Test that OctConv2d behaves like Conv2d when alpha_in = alpha_out = 0\n",
    "\n",
    "oc = OctConv2d(3, 32, (3, 3), 0, 0, stride=1, padding=1)\n",
    "conv = nn.Conv2d(3, 32, (3, 3), stride=1, padding=1)\n",
    "input_h = torch.randn(128, 3, 32, 32)\n",
    "input_l = None\n",
    "\n",
    "conv.weight = oc.conv_hh.weight\n",
    "conv.bias = oc.conv_hh.bias\n",
    "\n",
    "output_h, output_l = oc(input_h, input_l)\n",
    "output_conv = conv(input_h)\n",
    "assert output_h.shape == output_conv.shape, \"OctConv2d and Conv2d have different output shapes\"\n",
    "assert torch.all(torch.eq(output_h, output_conv)), \"OctConv2d and Conv2d have different outputs\""
   ]
  }
 ],
 "metadata": {
  "kernelspec": {
   "display_name": "Python 3",
   "language": "python",
   "name": "python3"
  },
  "language_info": {
   "codemirror_mode": {
    "name": "ipython",
    "version": 3
   },
   "file_extension": ".py",
   "mimetype": "text/x-python",
   "name": "python",
   "nbconvert_exporter": "python",
   "pygments_lexer": "ipython3",
   "version": "3.7.1"
  }
 },
 "nbformat": 4,
 "nbformat_minor": 2
}
