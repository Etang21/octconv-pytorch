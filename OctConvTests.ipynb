{
 "cells": [
  {
   "cell_type": "markdown",
   "metadata": {},
   "source": [
    "# Octave Convolution Tests\n",
    "\n",
    "We can use this notebook to test our implementation of the OctConv module.\n",
    "\n",
    "The OctConv module itself is defined under `modules.py`."
   ]
  },
  {
   "cell_type": "markdown",
   "metadata": {},
   "source": [
    "## Setup"
   ]
  },
  {
   "cell_type": "code",
   "execution_count": 103,
   "metadata": {},
   "outputs": [],
   "source": [
    "import torch\n",
    "import torch.nn as nn\n",
    "import torch.nn.functional as F"
   ]
  },
  {
   "cell_type": "code",
   "execution_count": 104,
   "metadata": {},
   "outputs": [
    {
     "name": "stdout",
     "output_type": "stream",
     "text": [
      "The autoreload extension is already loaded. To reload it, use:\n",
      "  %reload_ext autoreload\n"
     ]
    }
   ],
   "source": [
    "%load_ext autoreload\n",
    "%autoreload 2\n",
    "\n",
    "from modules import OctConv2d, FourLayerOctConvNet\n",
    "from octconv_tests import test_octconv_shapes, test_octconv_as_conv"
   ]
  },
  {
   "cell_type": "code",
   "execution_count": 105,
   "metadata": {},
   "outputs": [
    {
     "name": "stdout",
     "output_type": "stream",
     "text": [
      "using device: cpu\n"
     ]
    }
   ],
   "source": [
    "USE_GPU = True\n",
    "\n",
    "dtype = torch.float32\n",
    "\n",
    "if USE_GPU and torch.cuda.is_available():\n",
    "    device = torch.device('cuda')\n",
    "else:\n",
    "    device = torch.device('cpu')\n",
    "\n",
    "print('using device:', device)"
   ]
  },
  {
   "cell_type": "markdown",
   "metadata": {},
   "source": [
    "## Testing OctConv Behavior\n",
    "\n",
    "Testing code is located in `octconv_tests.py`.\n",
    "\n",
    "We can disregard the 'nn.Upsample' warning and safely use `nn.Upsample` as a layer according to these [posts](https://discuss.pytorch.org/t/which-function-is-better-for-upsampling-upsampling-or-interpolate/21811/12)"
   ]
  },
  {
   "cell_type": "code",
   "execution_count": 106,
   "metadata": {},
   "outputs": [],
   "source": [
    "# Example test for Octconv layer with padding and stride\n",
    "oc = OctConv2d(16, 32, (3, 3), 0.25, 0.25, stride=1, padding=1)\n",
    "input_h = torch.randn(128, 12, 32, 32)\n",
    "input_l = torch.randn(128, 4, 16, 16)\n",
    "output_h, output_l = oc(input_h, input_l)\n",
    "assert output_h.shape == (128, 24, 32, 32), \"Shape mismatch for stride=1, padding=1\"\n",
    "assert output_l.shape == (128, 8, 16, 16), \"Shape mismatch for stride=1, padding=1\""
   ]
  },
  {
   "cell_type": "code",
   "execution_count": 107,
   "metadata": {},
   "outputs": [],
   "source": [
    "test_octconv_shapes()\n",
    "test_octconv_as_conv()"
   ]
  },
  {
   "cell_type": "markdown",
   "metadata": {},
   "source": [
    "## Building an Octconv Network\n",
    "\n",
    "Here we use the `FourLayerOctConvNet` defined in `modules.py`. That code is not super flexible, but it proves that a network built with OctConv layers can overfit a small dataset."
   ]
  },
  {
   "cell_type": "code",
   "execution_count": 117,
   "metadata": {},
   "outputs": [],
   "source": [
    "# Initialize random training data\n",
    "N, C, H, W, D_out = 64, 3, 32, 32, 10\n",
    "x = torch.randn(N, C, H, W, dtype=dtype, device=device)\n",
    "y = torch.randint(0, D_out, (N, ), dtype=dtype, device=device)"
   ]
  },
  {
   "cell_type": "code",
   "execution_count": 118,
   "metadata": {},
   "outputs": [],
   "source": [
    "# Create our model\n",
    "alpha, hidden_channels = 0.25, 32\n",
    "model = FourLayerOctConvNet(alpha, hidden_channels, C, H, W, D_out)"
   ]
  },
  {
   "cell_type": "code",
   "execution_count": 119,
   "metadata": {},
   "outputs": [
    {
     "name": "stdout",
     "output_type": "stream",
     "text": [
      "oc1.conv_hh.weight\n",
      "oc1.conv_hh.bias\n",
      "oc1.conv_hl.weight\n",
      "oc1.conv_hl.bias\n",
      "oc2.conv_hh.weight\n",
      "oc2.conv_hh.bias\n",
      "oc2.conv_ll.weight\n",
      "oc2.conv_ll.bias\n",
      "oc2.conv_lh.weight\n",
      "oc2.conv_lh.bias\n",
      "oc2.conv_hl.weight\n",
      "oc2.conv_hl.bias\n",
      "oc3.conv_hh.weight\n",
      "oc3.conv_hh.bias\n",
      "oc3.conv_ll.weight\n",
      "oc3.conv_ll.bias\n",
      "oc3.conv_lh.weight\n",
      "oc3.conv_lh.bias\n",
      "oc3.conv_hl.weight\n",
      "oc3.conv_hl.bias\n",
      "oc4.conv_hh.weight\n",
      "oc4.conv_hh.bias\n",
      "oc4.conv_lh.weight\n",
      "oc4.conv_lh.bias\n",
      "fc1.weight\n",
      "fc1.bias\n"
     ]
    }
   ],
   "source": [
    "for name, param in model.named_parameters():\n",
    "    if param.requires_grad:\n",
    "        print(name)"
   ]
  },
  {
   "cell_type": "code",
   "execution_count": 120,
   "metadata": {},
   "outputs": [
    {
     "name": "stdout",
     "output_type": "stream",
     "text": [
      "Iteration 0, loss: 2.3111572265625\n",
      "Iteration 0, train accuracy: 0.109375\n",
      "Iteration 50, loss: 2.102719783782959\n",
      "Iteration 50, train accuracy: 0.21875\n",
      "Iteration 100, loss: 1.5918688774108887\n",
      "Iteration 100, train accuracy: 0.546875\n",
      "Iteration 150, loss: 0.25606366991996765\n",
      "Iteration 150, train accuracy: 1.0\n",
      "Iteration 200, loss: 0.023907391354441643\n",
      "Iteration 200, train accuracy: 1.0\n"
     ]
    }
   ],
   "source": [
    "# Overfit on our fake dataset\n",
    "# This training code shamelessy adapted from Justin Johnson's Pytorch examples\n",
    "model = model.to(device=device)\n",
    "x = x.to(device=device, dtype=dtype)\n",
    "y = y.to(device=device, dtype=torch.long)\n",
    "\n",
    "learning_rate = 1e-4\n",
    "optimizer = torch.optim.Adam(model.parameters(), lr=learning_rate)\n",
    "for t in range(250):\n",
    "    y_pred = model(x)\n",
    "    \n",
    "    loss = F.cross_entropy(y_pred, y)\n",
    "    if t % 50 == 0:\n",
    "        print(\"Iteration {}, loss: {}\".format(t, loss.item()))\n",
    "        _, class_preds = torch.max(y_pred, 1)\n",
    "        correct = (class_preds == y).sum()\n",
    "        print(\"Iteration {}, train accuracy: {}\".format(t, float(correct) / len(y)))\n",
    "\n",
    "    optimizer.zero_grad()\n",
    "    loss.backward()\n",
    "    optimizer.step()\n",
    "    \n",
    "y_pred = model(x)\n"
   ]
  },
  {
   "cell_type": "code",
   "execution_count": null,
   "metadata": {},
   "outputs": [],
   "source": []
  }
 ],
 "metadata": {
  "kernelspec": {
   "display_name": "Python 3",
   "language": "python",
   "name": "python3"
  },
  "language_info": {
   "codemirror_mode": {
    "name": "ipython",
    "version": 3
   },
   "file_extension": ".py",
   "mimetype": "text/x-python",
   "name": "python",
   "nbconvert_exporter": "python",
   "pygments_lexer": "ipython3",
   "version": "3.7.1"
  }
 },
 "nbformat": 4,
 "nbformat_minor": 2
}
