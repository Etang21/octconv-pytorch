{
 "cells": [
  {
   "cell_type": "markdown",
   "metadata": {},
   "source": [
    "# Octave Convolution Tests\n",
    "\n",
    "We can use this notebook to test our implementation of the OctConv module."
   ]
  },
  {
   "cell_type": "markdown",
   "metadata": {},
   "source": [
    "## Setup"
   ]
  },
  {
   "cell_type": "code",
   "execution_count": 4,
   "metadata": {},
   "outputs": [],
   "source": [
    "import torch\n",
    "import torch.nn as nn"
   ]
  },
  {
   "cell_type": "code",
   "execution_count": 6,
   "metadata": {},
   "outputs": [
    {
     "name": "stdout",
     "output_type": "stream",
     "text": [
      "The autoreload extension is already loaded. To reload it, use:\n",
      "  %reload_ext autoreload\n"
     ]
    }
   ],
   "source": [
    "%load_ext autoreload\n",
    "%autoreload 2\n",
    "\n",
    "from modules import OctConv2d"
   ]
  },
  {
   "cell_type": "markdown",
   "metadata": {},
   "source": [
    "## Testing OctConv Behavior"
   ]
  },
  {
   "cell_type": "code",
   "execution_count": 7,
   "metadata": {},
   "outputs": [],
   "source": [
    "# Test output shapes\n",
    "\n",
    "oc = OctConv2d(16, 16, (2, 2), 0.5, 0.5)\n",
    "input_h = torch.randn(128, 8, 32, 32)\n",
    "input_l = torch.randn(128, 8, 16, 16)\n",
    "\n",
    "output_h, output_l = oc(input_h, input_l)\n",
    "assert output_h.shape == (128, 8, 31, 31)\n",
    "assert output_l.shape == (128, 8, 15, 15)"
   ]
  },
  {
   "cell_type": "code",
   "execution_count": 8,
   "metadata": {},
   "outputs": [],
   "source": [
    "# Test output shapes with alpha_in != alpha_out\n",
    "\n",
    "oc = OctConv2d(16, 16, (2, 2), 0.5, 0.25)\n",
    "input_h = torch.randn(128, 8, 32, 32)\n",
    "input_l = torch.randn(128, 8, 16, 16)\n",
    "\n",
    "output_h, output_l = oc(input_h, input_l)\n",
    "assert output_h.shape == (128, 12, 31, 31)\n",
    "assert output_l.shape == (128, 4, 15, 15)"
   ]
  },
  {
   "cell_type": "code",
   "execution_count": 9,
   "metadata": {},
   "outputs": [],
   "source": [
    "# Test output shapes with alpha_in != alpha_out and in_channels != out_channels\n",
    "\n",
    "oc = OctConv2d(16, 32, (2, 2), 0.5, 0.25)\n",
    "input_h = torch.randn(128, 8, 32, 32)\n",
    "input_l = torch.randn(128, 8, 16, 16)\n",
    "\n",
    "output_h, output_l = oc(input_h, input_l)\n",
    "assert output_h.shape == (128, 24, 31, 31)\n",
    "assert output_l.shape == (128, 8, 15, 15)"
   ]
  },
  {
   "cell_type": "code",
   "execution_count": 13,
   "metadata": {},
   "outputs": [],
   "source": [
    "# Test output shapes with alpha_in = alpha_out = 0\n",
    "\n",
    "oc = OctConv2d(16, 32, (2, 2), 0, 0)\n",
    "input_h = torch.randn(128, 16, 32, 32)\n",
    "input_l = torch.randn(128, 0, 16, 16)\n",
    "\n",
    "output_h, output_l = oc(input_h, input_l)\n",
    "assert output_h.shape == (128, 32, 31, 31)\n",
    "assert output_l is None"
   ]
  },
  {
   "cell_type": "code",
   "execution_count": 24,
   "metadata": {},
   "outputs": [],
   "source": [
    "# Test that OctConv2d behaves like Conv2d when alpha_in = alpha_out = 0\n",
    "\n",
    "oc = OctConv2d(3, 32, (2, 2), 0, 0)\n",
    "conv = nn.Conv2d(3, 32, (2, 2))\n",
    "input_h = torch.randn(128, 3, 32, 32)\n",
    "input_l = None\n",
    "\n",
    "conv.weight = oc.conv_hh.weight\n",
    "conv.bias = oc.conv_hh.bias\n",
    "\n",
    "output_h, output_l = oc(input_h, input_l)\n",
    "output_conv = conv(input_h)\n",
    "assert output_h.shape == output_conv.shape, \"OctConv and Conv have different output shapes\"\n",
    "assert torch.all(torch.eq(output_h, output_conv)), \"OctConv and Conv have different outputs\""
   ]
  },
  {
   "cell_type": "code",
   "execution_count": null,
   "metadata": {},
   "outputs": [],
   "source": []
  }
 ],
 "metadata": {
  "kernelspec": {
   "display_name": "Python 3",
   "language": "python",
   "name": "python3"
  },
  "language_info": {
   "codemirror_mode": {
    "name": "ipython",
    "version": 3
   },
   "file_extension": ".py",
   "mimetype": "text/x-python",
   "name": "python",
   "nbconvert_exporter": "python",
   "pygments_lexer": "ipython3",
   "version": "3.7.1"
  }
 },
 "nbformat": 4,
 "nbformat_minor": 2
}
