{
 "cells": [
  {
   "cell_type": "markdown",
   "metadata": {},
   "source": [
    "# Octave Convolution Tests\n",
    "\n",
    "We can use this notebook to test our implementation of the OctConv module.\n",
    "\n",
    "The OctConv module itself is defined under `modules.py`."
   ]
  },
  {
   "cell_type": "markdown",
   "metadata": {},
   "source": [
    "## Setup"
   ]
  },
  {
   "cell_type": "code",
   "execution_count": 1,
   "metadata": {},
   "outputs": [],
   "source": [
    "import torch\n",
    "import torch.nn as nn\n",
    "import torch.nn.functional as F"
   ]
  },
  {
   "cell_type": "code",
   "execution_count": 2,
   "metadata": {},
   "outputs": [],
   "source": [
    "%load_ext autoreload\n",
    "%autoreload 2\n",
    "\n",
    "from modules import OctConv2dStackable, OctConv2dBN, get_stacked_4, get_stacked_4BN\n",
    "from octconv_tests import test_octconv_shapes, test_octconv_as_conv"
   ]
  },
  {
   "cell_type": "code",
   "execution_count": null,
   "metadata": {},
   "outputs": [],
   "source": [
    "USE_GPU = True\n",
    "\n",
    "dtype = torch.float32\n",
    "\n",
    "if USE_GPU and torch.cuda.is_available():\n",
    "    device = torch.device('cuda')\n",
    "else:\n",
    "    device = torch.device('cpu')\n",
    "\n",
    "print('using device:', device)"
   ]
  },
  {
   "cell_type": "markdown",
   "metadata": {},
   "source": [
    "## Testing OctConv Behavior\n",
    "\n",
    "Testing code is located in `octconv_tests.py`.\n",
    "\n",
    "We can disregard the 'nn.Upsample' warning and safely use `nn.Upsample` as a layer according to these [posts](https://discuss.pytorch.org/t/which-function-is-better-for-upsampling-upsampling-or-interpolate/21811/12)"
   ]
  },
  {
   "cell_type": "code",
   "execution_count": 4,
   "metadata": {
    "scrolled": true
   },
   "outputs": [
    {
     "name": "stderr",
     "output_type": "stream",
     "text": [
      "/opt/anaconda3/lib/python3.7/site-packages/torch/nn/modules/upsampling.py:129: UserWarning: nn.Upsample is deprecated. Use nn.functional.interpolate instead.\n",
      "  warnings.warn(\"nn.{} is deprecated. Use nn.functional.interpolate instead.\".format(self.name))\n"
     ]
    }
   ],
   "source": [
    "# Example test for Octconv layer with padding and stride\n",
    "oc = OctConv2dStackable(16, 32, (3, 3), 0.25, 0.25, stride=1, padding=1)\n",
    "input_stacked = torch.randn(128, 13, 32, 32)\n",
    "out = oc(input_stacked)\n",
    "assert out.shape == (128, 26, 32, 32), \"Shape mismatch for stride=1, padding=1\""
   ]
  },
  {
   "cell_type": "code",
   "execution_count": null,
   "metadata": {},
   "outputs": [],
   "source": [
    "test_octconv_shapes()\n",
    "test_octconv_as_conv()"
   ]
  },
  {
   "cell_type": "markdown",
   "metadata": {},
   "source": [
    "## Building an Octconv Network\n",
    "\n",
    "Here we use the `FourLayerOctConvNet` defined in `modules.py`. That code is not super flexible, but it proves that a network built with OctConv layers can overfit a small dataset."
   ]
  },
  {
   "cell_type": "code",
   "execution_count": 28,
   "metadata": {},
   "outputs": [],
   "source": [
    "# Initialize random training data\n",
    "N, C, H, W, D_out = 64, 3, 32, 32, 10\n",
    "x = torch.randn(N, C, H, W, dtype=dtype, device=device)\n",
    "y = torch.randint(0, D_out, (N, ), dtype=dtype, device=device)"
   ]
  },
  {
   "cell_type": "code",
   "execution_count": 29,
   "metadata": {},
   "outputs": [],
   "source": [
    "# Create our model\n",
    "alpha, freq_ratio, hidden_channels = .25, 2, 32\n",
    "model = get_stacked_4(alpha, freq_ratio, hidden_channels, C, H, W, D_out)"
   ]
  },
  {
   "cell_type": "code",
   "execution_count": 34,
   "metadata": {},
   "outputs": [
    {
     "name": "stdout",
     "output_type": "stream",
     "text": [
      "0.conv_hh.weight\n",
      "0.conv_hh.bias\n",
      "0.conv_hl.weight\n",
      "0.conv_hl.bias\n",
      "2.conv_hh.weight\n",
      "2.conv_hh.bias\n",
      "2.conv_ll.weight\n",
      "2.conv_ll.bias\n",
      "2.conv_lh.weight\n",
      "2.conv_lh.bias\n"
     ]
    }
   ],
   "source": [
    "for name, param in list(model.named_parameters())[:10]:\n",
    "    if param.requires_grad:\n",
    "        print(name)"
   ]
  },
  {
   "cell_type": "code",
   "execution_count": 33,
   "metadata": {},
   "outputs": [
    {
     "name": "stdout",
     "output_type": "stream",
     "text": [
      "Iteration 0, loss: 2.2931301593780518, train accuracy: 0.15625\n",
      "Iteration 25, loss: 2.1890764236450195, train accuracy: 0.265625\n",
      "Iteration 50, loss: 2.0960497856140137, train accuracy: 0.3125\n",
      "Iteration 75, loss: 1.9096107482910156, train accuracy: 0.4375\n",
      "Iteration 100, loss: 1.5080409049987793, train accuracy: 0.90625\n",
      "Iteration 125, loss: 0.7316662073135376, train accuracy: 1.0\n",
      "Iteration 150, loss: 0.17228272557258606, train accuracy: 1.0\n",
      "Iteration 175, loss: 0.038950126618146896, train accuracy: 1.0\n",
      "Iteration 200, loss: 0.01598169282078743, train accuracy: 1.0\n",
      "Iteration 225, loss: 0.009169764816761017, train accuracy: 1.0\n"
     ]
    }
   ],
   "source": [
    "# Overfit on our fake dataset\n",
    "# This training code shamelessy adapted from Justin Johnson's Pytorch examples\n",
    "model = model.to(device=device)\n",
    "x = x.to(device=device, dtype=dtype)\n",
    "y = y.to(device=device, dtype=torch.long)\n",
    "\n",
    "learning_rate = 1e-4\n",
    "optimizer = torch.optim.Adam(model.parameters(), lr=learning_rate)\n",
    "for t in range(250):\n",
    "    y_pred = model(x)\n",
    "    \n",
    "    loss = F.cross_entropy(y_pred, y)\n",
    "    if t % 25 == 0:\n",
    "        _, class_preds = torch.max(y_pred, 1)\n",
    "        correct = (class_preds == y).sum()\n",
    "        print(\"Iteration {}, loss: {}, train accuracy: {}\".format(t, loss.item(), float(correct) / len(y)))\n",
    "\n",
    "    optimizer.zero_grad()\n",
    "    loss.backward()\n",
    "    optimizer.step()\n",
    "    \n",
    "y_pred = model(x)\n"
   ]
  },
  {
   "cell_type": "markdown",
   "metadata": {},
   "source": [
    "## Building an OctConv network with Batchnorm"
   ]
  },
  {
   "cell_type": "code",
   "execution_count": 35,
   "metadata": {},
   "outputs": [
    {
     "name": "stdout",
     "output_type": "stream",
     "text": [
      "0.conv_hh.weight\n",
      "0.conv_hh.bias\n",
      "0.conv_hl.weight\n",
      "0.conv_hl.bias\n",
      "0.bn_h.weight\n",
      "0.bn_h.bias\n",
      "0.bn_l.weight\n",
      "0.bn_l.bias\n",
      "2.conv_hh.weight\n",
      "2.conv_hh.bias\n"
     ]
    }
   ],
   "source": [
    "model = get_stacked_4BN(alpha, freq_ratio, hidden_channels, C, H, W, D_out)\n",
    "for name, param in list(model.named_parameters())[:10]:\n",
    "    if param.requires_grad:\n",
    "        print(name)"
   ]
  },
  {
   "cell_type": "code",
   "execution_count": 37,
   "metadata": {},
   "outputs": [
    {
     "name": "stdout",
     "output_type": "stream",
     "text": [
      "Iteration 0, loss: 2.330103874206543, train accuracy: 0.109375\n",
      "Iteration 25, loss: 1.5433381795883179, train accuracy: 0.8125\n",
      "Iteration 50, loss: 0.9170371890068054, train accuracy: 1.0\n",
      "Iteration 75, loss: 0.4700774550437927, train accuracy: 1.0\n",
      "Iteration 100, loss: 0.23350805044174194, train accuracy: 1.0\n",
      "Iteration 125, loss: 0.12808947265148163, train accuracy: 1.0\n",
      "Iteration 150, loss: 0.07951658964157104, train accuracy: 1.0\n",
      "Iteration 175, loss: 0.054273564368486404, train accuracy: 1.0\n",
      "Iteration 200, loss: 0.03954865783452988, train accuracy: 1.0\n",
      "Iteration 225, loss: 0.030208997428417206, train accuracy: 1.0\n"
     ]
    }
   ],
   "source": [
    "# Overfit on our fake dataset\n",
    "# As expected, Batchnorm speeds up training by 2x - 3x!\n",
    "# This training code shamelessy adapted from Justin Johnson's Pytorch examples\n",
    "model = model.to(device=device)\n",
    "x = x.to(device=device, dtype=dtype)\n",
    "y = y.to(device=device, dtype=torch.long)\n",
    "\n",
    "model.train()\n",
    "learning_rate = 1e-4\n",
    "optimizer = torch.optim.Adam(model.parameters(), lr=learning_rate)\n",
    "for t in range(250):\n",
    "    y_pred = model(x)\n",
    "    \n",
    "    loss = F.cross_entropy(y_pred, y)\n",
    "    if t % 25 == 0:\n",
    "        _, class_preds = torch.max(y_pred, 1)\n",
    "        correct = (class_preds == y).sum()\n",
    "        print(\"Iteration {}, loss: {}, train accuracy: {}\".format(t, loss.item(), float(correct) / len(y)))\n",
    "\n",
    "    optimizer.zero_grad()\n",
    "    loss.backward()\n",
    "    optimizer.step()\n",
    "\n",
    "model.eval()\n",
    "y_pred = model(x)"
   ]
  }
 ],
 "metadata": {
  "kernelspec": {
   "display_name": "Python 3",
   "language": "python",
   "name": "python3"
  },
  "language_info": {
   "codemirror_mode": {
    "name": "ipython",
    "version": 3
   },
   "file_extension": ".py",
   "mimetype": "text/x-python",
   "name": "python",
   "nbconvert_exporter": "python",
   "pygments_lexer": "ipython3",
   "version": "3.7.1"
  }
 },
 "nbformat": 4,
 "nbformat_minor": 2
}
