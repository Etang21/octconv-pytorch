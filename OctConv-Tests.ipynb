{
 "cells": [
  {
   "cell_type": "markdown",
   "metadata": {},
   "source": [
    "# Octave Convolution Tests\n",
    "\n",
    "We can use this notebook to test our implementation of the OctConv module.\n",
    "\n",
    "The OctConv module itself is defined under `modules.py`."
   ]
  },
  {
   "cell_type": "markdown",
   "metadata": {},
   "source": [
    "## Setup"
   ]
  },
  {
   "cell_type": "code",
   "execution_count": 1,
   "metadata": {},
   "outputs": [],
   "source": [
    "import torch\n",
    "import torch.nn as nn\n",
    "import torch.nn.functional as F"
   ]
  },
  {
   "cell_type": "code",
   "execution_count": 2,
   "metadata": {},
   "outputs": [],
   "source": [
    "%load_ext autoreload\n",
    "%autoreload 2\n",
    "\n",
    "from modules import OctConv2dStackable, OctConv2dBN, get_stacked_4, get_stacked_4BN\n",
    "from octconv_tests import test_octconv_shapes, test_octconv_as_conv"
   ]
  },
  {
   "cell_type": "code",
   "execution_count": 3,
   "metadata": {},
   "outputs": [
    {
     "name": "stdout",
     "output_type": "stream",
     "text": [
      "using device: cpu\n"
     ]
    }
   ],
   "source": [
    "USE_GPU = False\n",
    "\n",
    "dtype = torch.float32\n",
    "\n",
    "if USE_GPU and torch.cuda.is_available():\n",
    "    device = torch.device('cuda')\n",
    "else:\n",
    "    device = torch.device('cpu')\n",
    "\n",
    "print('using device:', device)"
   ]
  },
  {
   "cell_type": "markdown",
   "metadata": {},
   "source": [
    "## Testing OctConv Behavior\n",
    "\n",
    "Testing code is located in `octconv_tests.py`.\n",
    "\n",
    "We can disregard the 'nn.Upsample' warning and safely use `nn.Upsample` as a layer according to these [posts](https://discuss.pytorch.org/t/which-function-is-better-for-upsampling-upsampling-or-interpolate/21811/12)"
   ]
  },
  {
   "cell_type": "code",
   "execution_count": 4,
   "metadata": {
    "scrolled": true
   },
   "outputs": [
    {
     "name": "stderr",
     "output_type": "stream",
     "text": [
      "/opt/anaconda3/lib/python3.7/site-packages/torch/nn/modules/upsampling.py:129: UserWarning: nn.Upsample is deprecated. Use nn.functional.interpolate instead.\n",
      "  warnings.warn(\"nn.{} is deprecated. Use nn.functional.interpolate instead.\".format(self.name))\n"
     ]
    }
   ],
   "source": [
    "# Example test for Octconv layer with padding and stride\n",
    "oc = OctConv2dStackable(16, 32, (3, 3), 0.25, 0.25, stride=1, padding=1)\n",
    "input_stacked = torch.randn(128, 13, 32, 32)\n",
    "out = oc(input_stacked)\n",
    "assert out.shape == (128, 26, 32, 32), \"Shape mismatch for stride=1, padding=1\""
   ]
  },
  {
   "cell_type": "code",
   "execution_count": 5,
   "metadata": {},
   "outputs": [
    {
     "ename": "TypeError",
     "evalue": "forward() takes 2 positional arguments but 3 were given",
     "output_type": "error",
     "traceback": [
      "\u001b[0;31m---------------------------------------------------------------------------\u001b[0m",
      "\u001b[0;31mTypeError\u001b[0m                                 Traceback (most recent call last)",
      "\u001b[0;32m<ipython-input-5-a77c8fa4009e>\u001b[0m in \u001b[0;36m<module>\u001b[0;34m\u001b[0m\n\u001b[0;32m----> 1\u001b[0;31m \u001b[0mtest_octconv_shapes\u001b[0m\u001b[0;34m(\u001b[0m\u001b[0;34m)\u001b[0m\u001b[0;34m\u001b[0m\u001b[0;34m\u001b[0m\u001b[0m\n\u001b[0m\u001b[1;32m      2\u001b[0m \u001b[0mtest_octconv_as_conv\u001b[0m\u001b[0;34m(\u001b[0m\u001b[0;34m)\u001b[0m\u001b[0;34m\u001b[0m\u001b[0;34m\u001b[0m\u001b[0m\n",
      "\u001b[0;32m~/octconv-pytorch/octconv_tests.py\u001b[0m in \u001b[0;36mtest_octconv_shapes\u001b[0;34m()\u001b[0m\n\u001b[1;32m     10\u001b[0m         \u001b[0minput_h\u001b[0m \u001b[0;34m=\u001b[0m \u001b[0mtorch\u001b[0m\u001b[0;34m.\u001b[0m\u001b[0mrandn\u001b[0m\u001b[0;34m(\u001b[0m\u001b[0;36m128\u001b[0m\u001b[0;34m,\u001b[0m \u001b[0;36m8\u001b[0m\u001b[0;34m,\u001b[0m \u001b[0;36m30\u001b[0m\u001b[0;34m,\u001b[0m \u001b[0;36m30\u001b[0m\u001b[0;34m)\u001b[0m\u001b[0;34m\u001b[0m\u001b[0;34m\u001b[0m\u001b[0m\n\u001b[1;32m     11\u001b[0m         \u001b[0minput_l\u001b[0m \u001b[0;34m=\u001b[0m \u001b[0mtorch\u001b[0m\u001b[0;34m.\u001b[0m\u001b[0mrandn\u001b[0m\u001b[0;34m(\u001b[0m\u001b[0;36m128\u001b[0m\u001b[0;34m,\u001b[0m \u001b[0;36m8\u001b[0m\u001b[0;34m,\u001b[0m \u001b[0;36m30\u001b[0m\u001b[0;34m//\u001b[0m\u001b[0mfreq_ratio\u001b[0m\u001b[0;34m,\u001b[0m \u001b[0;36m30\u001b[0m\u001b[0;34m//\u001b[0m\u001b[0mfreq_ratio\u001b[0m\u001b[0;34m)\u001b[0m\u001b[0;34m\u001b[0m\u001b[0;34m\u001b[0m\u001b[0m\n\u001b[0;32m---> 12\u001b[0;31m         \u001b[0moutput_h\u001b[0m\u001b[0;34m,\u001b[0m \u001b[0moutput_l\u001b[0m \u001b[0;34m=\u001b[0m \u001b[0moc\u001b[0m\u001b[0;34m(\u001b[0m\u001b[0minput_h\u001b[0m\u001b[0;34m,\u001b[0m \u001b[0minput_l\u001b[0m\u001b[0;34m)\u001b[0m\u001b[0;34m\u001b[0m\u001b[0;34m\u001b[0m\u001b[0m\n\u001b[0m\u001b[1;32m     13\u001b[0m         \u001b[0;32massert\u001b[0m \u001b[0moutput_h\u001b[0m\u001b[0;34m.\u001b[0m\u001b[0mshape\u001b[0m \u001b[0;34m==\u001b[0m \u001b[0;34m(\u001b[0m\u001b[0;36m128\u001b[0m\u001b[0;34m,\u001b[0m \u001b[0;36m8\u001b[0m\u001b[0;34m,\u001b[0m \u001b[0;36m30\u001b[0m\u001b[0;34m,\u001b[0m \u001b[0;36m30\u001b[0m\u001b[0;34m)\u001b[0m\u001b[0;34m,\u001b[0m \u001b[0;34m\"Incorrect high-frequency output shape for OctConv2d\"\u001b[0m\u001b[0;34m\u001b[0m\u001b[0;34m\u001b[0m\u001b[0m\n\u001b[1;32m     14\u001b[0m         \u001b[0;32massert\u001b[0m \u001b[0moutput_l\u001b[0m\u001b[0;34m.\u001b[0m\u001b[0mshape\u001b[0m \u001b[0;34m==\u001b[0m \u001b[0;34m(\u001b[0m\u001b[0;36m128\u001b[0m\u001b[0;34m,\u001b[0m \u001b[0;36m8\u001b[0m\u001b[0;34m,\u001b[0m \u001b[0;36m30\u001b[0m\u001b[0;34m//\u001b[0m\u001b[0mfreq_ratio\u001b[0m\u001b[0;34m,\u001b[0m \u001b[0;36m30\u001b[0m\u001b[0;34m//\u001b[0m\u001b[0mfreq_ratio\u001b[0m\u001b[0;34m)\u001b[0m\u001b[0;34m,\u001b[0m \u001b[0;34m\"Incorrect low-frequency output shape for OctConv2d\"\u001b[0m\u001b[0;34m\u001b[0m\u001b[0;34m\u001b[0m\u001b[0m\n",
      "\u001b[0;32m/opt/anaconda3/lib/python3.7/site-packages/torch/nn/modules/module.py\u001b[0m in \u001b[0;36m__call__\u001b[0;34m(self, *input, **kwargs)\u001b[0m\n\u001b[1;32m    487\u001b[0m             \u001b[0mresult\u001b[0m \u001b[0;34m=\u001b[0m \u001b[0mself\u001b[0m\u001b[0;34m.\u001b[0m\u001b[0m_slow_forward\u001b[0m\u001b[0;34m(\u001b[0m\u001b[0;34m*\u001b[0m\u001b[0minput\u001b[0m\u001b[0;34m,\u001b[0m \u001b[0;34m**\u001b[0m\u001b[0mkwargs\u001b[0m\u001b[0;34m)\u001b[0m\u001b[0;34m\u001b[0m\u001b[0;34m\u001b[0m\u001b[0m\n\u001b[1;32m    488\u001b[0m         \u001b[0;32melse\u001b[0m\u001b[0;34m:\u001b[0m\u001b[0;34m\u001b[0m\u001b[0;34m\u001b[0m\u001b[0m\n\u001b[0;32m--> 489\u001b[0;31m             \u001b[0mresult\u001b[0m \u001b[0;34m=\u001b[0m \u001b[0mself\u001b[0m\u001b[0;34m.\u001b[0m\u001b[0mforward\u001b[0m\u001b[0;34m(\u001b[0m\u001b[0;34m*\u001b[0m\u001b[0minput\u001b[0m\u001b[0;34m,\u001b[0m \u001b[0;34m**\u001b[0m\u001b[0mkwargs\u001b[0m\u001b[0;34m)\u001b[0m\u001b[0;34m\u001b[0m\u001b[0;34m\u001b[0m\u001b[0m\n\u001b[0m\u001b[1;32m    490\u001b[0m         \u001b[0;32mfor\u001b[0m \u001b[0mhook\u001b[0m \u001b[0;32min\u001b[0m \u001b[0mself\u001b[0m\u001b[0;34m.\u001b[0m\u001b[0m_forward_hooks\u001b[0m\u001b[0;34m.\u001b[0m\u001b[0mvalues\u001b[0m\u001b[0;34m(\u001b[0m\u001b[0;34m)\u001b[0m\u001b[0;34m:\u001b[0m\u001b[0;34m\u001b[0m\u001b[0;34m\u001b[0m\u001b[0m\n\u001b[1;32m    491\u001b[0m             \u001b[0mhook_result\u001b[0m \u001b[0;34m=\u001b[0m \u001b[0mhook\u001b[0m\u001b[0;34m(\u001b[0m\u001b[0mself\u001b[0m\u001b[0;34m,\u001b[0m \u001b[0minput\u001b[0m\u001b[0;34m,\u001b[0m \u001b[0mresult\u001b[0m\u001b[0;34m)\u001b[0m\u001b[0;34m\u001b[0m\u001b[0;34m\u001b[0m\u001b[0m\n",
      "\u001b[0;31mTypeError\u001b[0m: forward() takes 2 positional arguments but 3 were given"
     ]
    }
   ],
   "source": [
    "test_octconv_shapes()\n",
    "test_octconv_as_conv()"
   ]
  },
  {
   "cell_type": "markdown",
   "metadata": {},
   "source": [
    "## Building an Octconv Network\n",
    "\n",
    "Here we use the `FourLayerOctConvNet` defined in `modules.py`. That code is not super flexible, but it proves that a network built with OctConv layers can overfit a small dataset."
   ]
  },
  {
   "cell_type": "code",
   "execution_count": 4,
   "metadata": {},
   "outputs": [],
   "source": [
    "# Initialize random training data\n",
    "N, C, H, W, D_out = 64, 3, 30, 30, 10\n",
    "x = torch.randn(N, C, H, W, dtype=dtype, device=device)\n",
    "y = torch.randint(0, D_out, (N, ), dtype=dtype, device=device)"
   ]
  },
  {
   "cell_type": "code",
   "execution_count": 5,
   "metadata": {},
   "outputs": [],
   "source": [
    "# Create our model\n",
    "alpha, freq_ratio, hidden_channels = .25, 3, 32\n",
    "model = get_stacked_4(alpha, freq_ratio, hidden_channels, C, H, W, D_out)"
   ]
  },
  {
   "cell_type": "code",
   "execution_count": 6,
   "metadata": {},
   "outputs": [
    {
     "name": "stdout",
     "output_type": "stream",
     "text": [
      "11.weight\n",
      "11.bias\n"
     ]
    }
   ],
   "source": [
    "for name, param in list(model.named_parameters())[:10]:\n",
    "    if param.requires_grad:\n",
    "        print(name)"
   ]
  },
  {
   "cell_type": "code",
   "execution_count": 8,
   "metadata": {},
   "outputs": [
    {
     "name": "stdout",
     "output_type": "stream",
     "text": [
      "Iteration 0, loss: 2.121100425720215, train accuracy: 0.296875\n",
      "Iteration 25, loss: 1.9618334770202637, train accuracy: 0.5625\n",
      "Iteration 50, loss: 1.8080220222473145, train accuracy: 0.6875\n",
      "Iteration 75, loss: 1.661226749420166, train accuracy: 0.828125\n",
      "Iteration 100, loss: 1.5221688747406006, train accuracy: 0.953125\n",
      "Iteration 125, loss: 1.3913532495498657, train accuracy: 1.0\n",
      "Iteration 150, loss: 1.269147515296936, train accuracy: 1.0\n",
      "Iteration 175, loss: 1.155777096748352, train accuracy: 1.0\n",
      "Iteration 200, loss: 1.0513089895248413, train accuracy: 1.0\n",
      "Iteration 225, loss: 0.9556519985198975, train accuracy: 1.0\n"
     ]
    }
   ],
   "source": [
    "# Overfit on our fake dataset\n",
    "# This training code shamelessy adapted from Justin Johnson's Pytorch examples\n",
    "model = model.to(device=device)\n",
    "x = x.to(device=device, dtype=dtype)\n",
    "y = y.to(device=device, dtype=torch.long)\n",
    "\n",
    "learning_rate = 1e-3\n",
    "optimizer = torch.optim.Adam(model.parameters(), lr=learning_rate)\n",
    "for t in range(250):\n",
    "    y_pred = model(x)\n",
    "    \n",
    "    loss = F.cross_entropy(y_pred, y)\n",
    "    if t % 25 == 0:\n",
    "        _, class_preds = torch.max(y_pred, 1)\n",
    "        correct = (class_preds == y).sum()\n",
    "        print(\"Iteration {}, loss: {}, train accuracy: {}\".format(t, loss.item(), float(correct) / len(y)))\n",
    "\n",
    "    optimizer.zero_grad()\n",
    "    loss.backward()\n",
    "    optimizer.step()\n",
    "    \n",
    "y_pred = model(x)\n"
   ]
  },
  {
   "cell_type": "markdown",
   "metadata": {},
   "source": [
    "## Building an OctConv network with Batchnorm"
   ]
  },
  {
   "cell_type": "code",
   "execution_count": 9,
   "metadata": {},
   "outputs": [
    {
     "name": "stdout",
     "output_type": "stream",
     "text": [
      "11.weight\n",
      "11.bias\n"
     ]
    }
   ],
   "source": [
    "model = get_stacked_4BN(alpha, freq_ratio, hidden_channels, C, H, W, D_out)\n",
    "for name, param in list(model.named_parameters())[:10]:\n",
    "    if param.requires_grad:\n",
    "        print(name)"
   ]
  },
  {
   "cell_type": "code",
   "execution_count": 10,
   "metadata": {},
   "outputs": [
    {
     "name": "stdout",
     "output_type": "stream",
     "text": [
      "Iteration 0, loss: 2.3677077293395996, train accuracy: 0.078125\n",
      "Iteration 25, loss: 1.9777846336364746, train accuracy: 0.421875\n",
      "Iteration 50, loss: 1.6550426483154297, train accuracy: 0.75\n",
      "Iteration 75, loss: 1.373095989227295, train accuracy: 0.9375\n",
      "Iteration 100, loss: 1.1338887214660645, train accuracy: 0.984375\n",
      "Iteration 125, loss: 0.935090959072113, train accuracy: 1.0\n",
      "Iteration 150, loss: 0.7725397348403931, train accuracy: 1.0\n",
      "Iteration 175, loss: 0.6412968039512634, train accuracy: 1.0\n",
      "Iteration 200, loss: 0.5361815094947815, train accuracy: 1.0\n",
      "Iteration 225, loss: 0.4522348642349243, train accuracy: 1.0\n"
     ]
    }
   ],
   "source": [
    "# Overfit on our fake dataset\n",
    "# As expected, Batchnorm speeds up training by 2x - 3x!\n",
    "# This training code shamelessy adapted from Justin Johnson's Pytorch examples\n",
    "model = model.to(device=device)\n",
    "x = x.to(device=device, dtype=dtype)\n",
    "y = y.to(device=device, dtype=torch.long)\n",
    "\n",
    "model.train()\n",
    "learning_rate = 1e-4\n",
    "optimizer = torch.optim.Adam(model.parameters(), lr=learning_rate)\n",
    "for t in range(250):\n",
    "    y_pred = model(x)\n",
    "    \n",
    "    loss = F.cross_entropy(y_pred, y)\n",
    "    if t % 25 == 0:\n",
    "        _, class_preds = torch.max(y_pred, 1)\n",
    "        correct = (class_preds == y).sum()\n",
    "        print(\"Iteration {}, loss: {}, train accuracy: {}\".format(t, loss.item(), float(correct) / len(y)))\n",
    "\n",
    "    optimizer.zero_grad()\n",
    "    loss.backward()\n",
    "    optimizer.step()\n",
    "\n",
    "model.eval()\n",
    "y_pred = model(x)"
   ]
  },
  {
   "cell_type": "code",
   "execution_count": null,
   "metadata": {},
   "outputs": [],
   "source": []
  }
 ],
 "metadata": {
  "kernelspec": {
   "display_name": "Python 3",
   "language": "python",
   "name": "python3"
  },
  "language_info": {
   "codemirror_mode": {
    "name": "ipython",
    "version": 3
   },
   "file_extension": ".py",
   "mimetype": "text/x-python",
   "name": "python",
   "nbconvert_exporter": "python",
   "pygments_lexer": "ipython3",
   "version": "3.7.1"
  }
 },
 "nbformat": 4,
 "nbformat_minor": 2
}
